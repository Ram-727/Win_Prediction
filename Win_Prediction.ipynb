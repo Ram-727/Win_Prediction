{
 "cells": [
  {
   "cell_type": "markdown",
   "id": "eef23b3a",
   "metadata": {},
   "source": [
    "# Importing Libraries"
   ]
  },
  {
   "cell_type": "code",
   "execution_count": 62,
   "id": "0d499226",
   "metadata": {},
   "outputs": [],
   "source": [
    "import numpy as np\n",
    "import pandas as pd\n",
    "from sklearn import preprocessing\n",
    "from matplotlib import pyplot as plt\n",
    "import seaborn as sns\n",
    "import warnings\n",
    "warnings.filterwarnings('ignore')\n",
    "import os"
   ]
  },
  {
   "cell_type": "markdown",
   "id": "521f9bef",
   "metadata": {},
   "source": [
    "# Importing data"
   ]
  },
  {
   "cell_type": "code",
   "execution_count": 63,
   "id": "ec7b182d",
   "metadata": {},
   "outputs": [
    {
     "data": {
      "text/html": [
       "<div>\n",
       "<style scoped>\n",
       "    .dataframe tbody tr th:only-of-type {\n",
       "        vertical-align: middle;\n",
       "    }\n",
       "\n",
       "    .dataframe tbody tr th {\n",
       "        vertical-align: top;\n",
       "    }\n",
       "\n",
       "    .dataframe thead th {\n",
       "        text-align: right;\n",
       "    }\n",
       "</style>\n",
       "<table border=\"1\" class=\"dataframe\">\n",
       "  <thead>\n",
       "    <tr style=\"text-align: right;\">\n",
       "      <th></th>\n",
       "      <th>Client Category</th>\n",
       "      <th>Solution Type</th>\n",
       "      <th>Deal Date</th>\n",
       "      <th>Sector</th>\n",
       "      <th>Location</th>\n",
       "      <th>VP Name</th>\n",
       "      <th>Manager Name</th>\n",
       "      <th>Deal Cost</th>\n",
       "      <th>Deal Status Code</th>\n",
       "    </tr>\n",
       "  </thead>\n",
       "  <tbody>\n",
       "    <tr>\n",
       "      <th>0</th>\n",
       "      <td>Telecom</td>\n",
       "      <td>Solution 7</td>\n",
       "      <td>27-Mar-12</td>\n",
       "      <td>Sector 24</td>\n",
       "      <td>L5</td>\n",
       "      <td>Ekta Zutshi</td>\n",
       "      <td>Gopa Trilochana</td>\n",
       "      <td>150000.00</td>\n",
       "      <td>Won</td>\n",
       "    </tr>\n",
       "    <tr>\n",
       "      <th>1</th>\n",
       "      <td>Telecom</td>\n",
       "      <td>Solution 7</td>\n",
       "      <td>25-Sep-12</td>\n",
       "      <td>Sector 24</td>\n",
       "      <td>L5</td>\n",
       "      <td>Ekta Zutshi</td>\n",
       "      <td>Gopa Trilochana</td>\n",
       "      <td>744705.88</td>\n",
       "      <td>Won</td>\n",
       "    </tr>\n",
       "    <tr>\n",
       "      <th>2</th>\n",
       "      <td>Internal</td>\n",
       "      <td>Solution 59</td>\n",
       "      <td>1-Aug-11</td>\n",
       "      <td>Sector 20</td>\n",
       "      <td>Others</td>\n",
       "      <td>Ekta Zutshi</td>\n",
       "      <td>Russell Dahlen</td>\n",
       "      <td>60000.00</td>\n",
       "      <td>Lost</td>\n",
       "    </tr>\n",
       "    <tr>\n",
       "      <th>3</th>\n",
       "      <td>Internal</td>\n",
       "      <td>Solution 59</td>\n",
       "      <td>28-Apr-11</td>\n",
       "      <td>Sector 20</td>\n",
       "      <td>Others</td>\n",
       "      <td>Ekta Zutshi</td>\n",
       "      <td>Russell Dahlen</td>\n",
       "      <td>60000.00</td>\n",
       "      <td>Lost</td>\n",
       "    </tr>\n",
       "    <tr>\n",
       "      <th>4</th>\n",
       "      <td>Internal</td>\n",
       "      <td>Solution 32</td>\n",
       "      <td>3-Jun-11</td>\n",
       "      <td>Sector 20</td>\n",
       "      <td>Others</td>\n",
       "      <td>Ekta Zutshi</td>\n",
       "      <td>Russell Dahlen</td>\n",
       "      <td>80882.35</td>\n",
       "      <td>Lost</td>\n",
       "    </tr>\n",
       "  </tbody>\n",
       "</table>\n",
       "</div>"
      ],
      "text/plain": [
       "  Client Category Solution Type  Deal Date     Sector Location      VP Name  \\\n",
       "0         Telecom    Solution 7  27-Mar-12  Sector 24       L5  Ekta Zutshi   \n",
       "1         Telecom    Solution 7  25-Sep-12  Sector 24       L5  Ekta Zutshi   \n",
       "2        Internal   Solution 59   1-Aug-11  Sector 20   Others  Ekta Zutshi   \n",
       "3        Internal   Solution 59  28-Apr-11  Sector 20   Others  Ekta Zutshi   \n",
       "4        Internal   Solution 32   3-Jun-11  Sector 20   Others  Ekta Zutshi   \n",
       "\n",
       "      Manager Name  Deal Cost Deal Status Code  \n",
       "0  Gopa Trilochana  150000.00              Won  \n",
       "1  Gopa Trilochana  744705.88              Won  \n",
       "2   Russell Dahlen   60000.00             Lost  \n",
       "3   Russell Dahlen   60000.00             Lost  \n",
       "4   Russell Dahlen   80882.35             Lost  "
      ]
     },
     "execution_count": 63,
     "metadata": {},
     "output_type": "execute_result"
    }
   ],
   "source": [
    "df=pd.read_csv('Win_Prediction_Data.xlsx - Sheet1.csv')\n",
    "df.head()"
   ]
  },
  {
   "cell_type": "code",
   "execution_count": 64,
   "id": "7d717a5f",
   "metadata": {},
   "outputs": [
    {
     "data": {
      "text/html": [
       "<div>\n",
       "<style scoped>\n",
       "    .dataframe tbody tr th:only-of-type {\n",
       "        vertical-align: middle;\n",
       "    }\n",
       "\n",
       "    .dataframe tbody tr th {\n",
       "        vertical-align: top;\n",
       "    }\n",
       "\n",
       "    .dataframe thead th {\n",
       "        text-align: right;\n",
       "    }\n",
       "</style>\n",
       "<table border=\"1\" class=\"dataframe\">\n",
       "  <thead>\n",
       "    <tr style=\"text-align: right;\">\n",
       "      <th></th>\n",
       "      <th>Client Category</th>\n",
       "      <th>Solution Type</th>\n",
       "      <th>Deal Date</th>\n",
       "      <th>Sector</th>\n",
       "      <th>Location</th>\n",
       "      <th>VP Name</th>\n",
       "      <th>Manager Name</th>\n",
       "      <th>Deal Cost</th>\n",
       "    </tr>\n",
       "  </thead>\n",
       "  <tbody>\n",
       "    <tr>\n",
       "      <th>0</th>\n",
       "      <td>Telecom</td>\n",
       "      <td>Solution 7</td>\n",
       "      <td>27-Mar-12</td>\n",
       "      <td>Sector 24</td>\n",
       "      <td>L5</td>\n",
       "      <td>Ekta Zutshi</td>\n",
       "      <td>Gopa Trilochana</td>\n",
       "      <td>150000.00</td>\n",
       "    </tr>\n",
       "    <tr>\n",
       "      <th>1</th>\n",
       "      <td>Telecom</td>\n",
       "      <td>Solution 7</td>\n",
       "      <td>25-Sep-12</td>\n",
       "      <td>Sector 24</td>\n",
       "      <td>L5</td>\n",
       "      <td>Ekta Zutshi</td>\n",
       "      <td>Gopa Trilochana</td>\n",
       "      <td>744705.88</td>\n",
       "    </tr>\n",
       "    <tr>\n",
       "      <th>2</th>\n",
       "      <td>Internal</td>\n",
       "      <td>Solution 59</td>\n",
       "      <td>1-Aug-11</td>\n",
       "      <td>Sector 20</td>\n",
       "      <td>Others</td>\n",
       "      <td>Ekta Zutshi</td>\n",
       "      <td>Russell Dahlen</td>\n",
       "      <td>60000.00</td>\n",
       "    </tr>\n",
       "    <tr>\n",
       "      <th>3</th>\n",
       "      <td>Internal</td>\n",
       "      <td>Solution 59</td>\n",
       "      <td>28-Apr-11</td>\n",
       "      <td>Sector 20</td>\n",
       "      <td>Others</td>\n",
       "      <td>Ekta Zutshi</td>\n",
       "      <td>Russell Dahlen</td>\n",
       "      <td>60000.00</td>\n",
       "    </tr>\n",
       "    <tr>\n",
       "      <th>4</th>\n",
       "      <td>Internal</td>\n",
       "      <td>Solution 32</td>\n",
       "      <td>3-Jun-11</td>\n",
       "      <td>Sector 20</td>\n",
       "      <td>Others</td>\n",
       "      <td>Ekta Zutshi</td>\n",
       "      <td>Russell Dahlen</td>\n",
       "      <td>80882.35</td>\n",
       "    </tr>\n",
       "  </tbody>\n",
       "</table>\n",
       "</div>"
      ],
      "text/plain": [
       "  Client Category Solution Type  Deal Date     Sector Location      VP Name  \\\n",
       "0         Telecom    Solution 7  27-Mar-12  Sector 24       L5  Ekta Zutshi   \n",
       "1         Telecom    Solution 7  25-Sep-12  Sector 24       L5  Ekta Zutshi   \n",
       "2        Internal   Solution 59   1-Aug-11  Sector 20   Others  Ekta Zutshi   \n",
       "3        Internal   Solution 59  28-Apr-11  Sector 20   Others  Ekta Zutshi   \n",
       "4        Internal   Solution 32   3-Jun-11  Sector 20   Others  Ekta Zutshi   \n",
       "\n",
       "      Manager Name  Deal Cost  \n",
       "0  Gopa Trilochana  150000.00  \n",
       "1  Gopa Trilochana  744705.88  \n",
       "2   Russell Dahlen   60000.00  \n",
       "3   Russell Dahlen   60000.00  \n",
       "4   Russell Dahlen   80882.35  "
      ]
     },
     "execution_count": 64,
     "metadata": {},
     "output_type": "execute_result"
    }
   ],
   "source": [
    "data=df.drop(['Deal Status Code'],axis=1)\n",
    "target=df[['Deal Status Code']]\n",
    "data.head()"
   ]
  },
  {
   "cell_type": "code",
   "execution_count": 65,
   "id": "0cde8004",
   "metadata": {},
   "outputs": [
    {
     "data": {
      "text/plain": [
       "Client Category    79\n",
       "Solution Type       0\n",
       "Deal Date           0\n",
       "Sector              0\n",
       "Location            0\n",
       "VP Name             0\n",
       "Manager Name        0\n",
       "Deal Cost           0\n",
       "dtype: int64"
      ]
     },
     "execution_count": 65,
     "metadata": {},
     "output_type": "execute_result"
    }
   ],
   "source": [
    "data.isnull().sum()"
   ]
  },
  {
   "cell_type": "code",
   "execution_count": 66,
   "id": "94722edc",
   "metadata": {},
   "outputs": [
    {
     "data": {
      "text/plain": [
       "<AxesSubplot:>"
      ]
     },
     "execution_count": 66,
     "metadata": {},
     "output_type": "execute_result"
    },
    {
     "data": {
      "image/png": "[encoded data removed]",
      "text/plain": [
       "<Figure size 432x288 with 1 Axes>"
      ]
     },
     "metadata": {
      "needs_background": "light"
     },
     "output_type": "display_data"
    }
   ],
   "source": [
    "sns.heatmap(data.isnull(),yticklabels=False,cbar=False,cmap='YlGnBu')"
   ]
  },
  {
   "cell_type": "code",
   "execution_count": 67,
   "id": "2644c53d",
   "metadata": {},
   "outputs": [],
   "source": [
    "target=df[['Deal Status Code']]"
   ]
  },
  {
   "cell_type": "markdown",
   "id": "13c4e828",
   "metadata": {},
   "source": [
    "# EDA"
   ]
  },
  {
   "cell_type": "code",
   "execution_count": 68,
   "id": "c1e477c4",
   "metadata": {},
   "outputs": [
    {
     "name": "stdout",
     "output_type": "stream",
     "text": [
      "<class 'pandas.core.frame.DataFrame'>\n",
      "RangeIndex: 10061 entries, 0 to 10060\n",
      "Data columns (total 8 columns):\n",
      " #   Column           Non-Null Count  Dtype  \n",
      "---  ------           --------------  -----  \n",
      " 0   Client Category  9982 non-null   object \n",
      " 1   Solution Type    10061 non-null  object \n",
      " 2   Deal Date        10061 non-null  object \n",
      " 3   Sector           10061 non-null  object \n",
      " 4   Location         10061 non-null  object \n",
      " 5   VP Name          10061 non-null  object \n",
      " 6   Manager Name     10061 non-null  object \n",
      " 7   Deal Cost        10061 non-null  float64\n",
      "dtypes: float64(1), object(7)\n",
      "memory usage: 628.9+ KB\n"
     ]
    }
   ],
   "source": [
    "data.info()                  #client category has null values"
   ]
  },
  {
   "cell_type": "code",
   "execution_count": 69,
   "id": "d0f99a08",
   "metadata": {},
   "outputs": [
    {
     "data": {
      "text/plain": [
       "Client Category    79\n",
       "Solution Type       0\n",
       "Deal Date           0\n",
       "Sector              0\n",
       "Location            0\n",
       "VP Name             0\n",
       "Manager Name        0\n",
       "Deal Cost           0\n",
       "dtype: int64"
      ]
     },
     "execution_count": 69,
     "metadata": {},
     "output_type": "execute_result"
    }
   ],
   "source": [
    "data.isnull().sum()"
   ]
  },
  {
   "cell_type": "code",
   "execution_count": 70,
   "id": "6b2a3e82",
   "metadata": {},
   "outputs": [
    {
     "data": {
      "text/plain": [
       "(10061, 8)"
      ]
     },
     "execution_count": 70,
     "metadata": {},
     "output_type": "execute_result"
    }
   ],
   "source": [
    "data.shape"
   ]
  },
  {
   "cell_type": "code",
   "execution_count": 71,
   "id": "55b5cdf6",
   "metadata": {},
   "outputs": [],
   "source": [
    "Client_Category=data['Client Category'].value_counts()"
   ]
  },
  {
   "cell_type": "code",
   "execution_count": 72,
   "id": "0ec56246",
   "metadata": {},
   "outputs": [
    {
     "data": {
      "text/html": [
       "<div>\n",
       "<style scoped>\n",
       "    .dataframe tbody tr th:only-of-type {\n",
       "        vertical-align: middle;\n",
       "    }\n",
       "\n",
       "    .dataframe tbody tr th {\n",
       "        vertical-align: top;\n",
       "    }\n",
       "\n",
       "    .dataframe thead th {\n",
       "        text-align: right;\n",
       "    }\n",
       "</style>\n",
       "<table border=\"1\" class=\"dataframe\">\n",
       "  <thead>\n",
       "    <tr style=\"text-align: right;\">\n",
       "      <th></th>\n",
       "      <th>Deal Cost</th>\n",
       "    </tr>\n",
       "  </thead>\n",
       "  <tbody>\n",
       "    <tr>\n",
       "      <th>count</th>\n",
       "      <td>1.006100e+04</td>\n",
       "    </tr>\n",
       "    <tr>\n",
       "      <th>mean</th>\n",
       "      <td>7.668969e+05</td>\n",
       "    </tr>\n",
       "    <tr>\n",
       "      <th>std</th>\n",
       "      <td>1.619894e+06</td>\n",
       "    </tr>\n",
       "    <tr>\n",
       "      <th>min</th>\n",
       "      <td>0.000000e+00</td>\n",
       "    </tr>\n",
       "    <tr>\n",
       "      <th>25%</th>\n",
       "      <td>1.897059e+05</td>\n",
       "    </tr>\n",
       "    <tr>\n",
       "      <th>50%</th>\n",
       "      <td>3.823529e+05</td>\n",
       "    </tr>\n",
       "    <tr>\n",
       "      <th>75%</th>\n",
       "      <td>7.647059e+05</td>\n",
       "    </tr>\n",
       "    <tr>\n",
       "      <th>max</th>\n",
       "      <td>3.676471e+07</td>\n",
       "    </tr>\n",
       "  </tbody>\n",
       "</table>\n",
       "</div>"
      ],
      "text/plain": [
       "          Deal Cost\n",
       "count  1.006100e+04\n",
       "mean   7.668969e+05\n",
       "std    1.619894e+06\n",
       "min    0.000000e+00\n",
       "25%    1.897059e+05\n",
       "50%    3.823529e+05\n",
       "75%    7.647059e+05\n",
       "max    3.676471e+07"
      ]
     },
     "execution_count": 72,
     "metadata": {},
     "output_type": "execute_result"
    }
   ],
   "source": [
    "data.describe()"
   ]
  },
  {
   "cell_type": "markdown",
   "id": "86eea955",
   "metadata": {},
   "source": [
    "# Data Preprocessing"
   ]
  },
  {
   "cell_type": "code",
   "execution_count": 73,
   "id": "66f2704f",
   "metadata": {},
   "outputs": [
    {
     "data": {
      "text/plain": [
       "0    Others\n",
       "dtype: object"
      ]
     },
     "execution_count": 73,
     "metadata": {},
     "output_type": "execute_result"
    }
   ],
   "source": [
    "data['Client Category'].mode()"
   ]
  },
  {
   "cell_type": "code",
   "execution_count": 74,
   "id": "3e45e57e",
   "metadata": {},
   "outputs": [],
   "source": [
    "data['Client Category']=data['Client Category'].fillna(data['Client Category'].mode()[0])"
   ]
  },
  {
   "cell_type": "code",
   "execution_count": 75,
   "id": "781a3af7",
   "metadata": {},
   "outputs": [
    {
     "data": {
      "text/plain": [
       "<AxesSubplot:>"
      ]
     },
     "execution_count": 75,
     "metadata": {},
     "output_type": "execute_result"
    },
    {
     "data": {
      "image/png": "[encoded data removed]",
      "text/plain": [
       "<Figure size 432x288 with 1 Axes>"
      ]
     },
     "metadata": {
      "needs_background": "light"
     },
     "output_type": "display_data"
    }
   ],
   "source": [
    "sns.heatmap(data.isnull(),yticklabels=False,cbar=False,cmap='YlGnBu')"
   ]
  },
  {
   "cell_type": "code",
   "execution_count": 76,
   "id": "57c483ad",
   "metadata": {},
   "outputs": [
    {
     "data": {
      "text/html": [
       "<div>\n",
       "<style scoped>\n",
       "    .dataframe tbody tr th:only-of-type {\n",
       "        vertical-align: middle;\n",
       "    }\n",
       "\n",
       "    .dataframe tbody tr th {\n",
       "        vertical-align: top;\n",
       "    }\n",
       "\n",
       "    .dataframe thead th {\n",
       "        text-align: right;\n",
       "    }\n",
       "</style>\n",
       "<table border=\"1\" class=\"dataframe\">\n",
       "  <thead>\n",
       "    <tr style=\"text-align: right;\">\n",
       "      <th></th>\n",
       "      <th>Client Category</th>\n",
       "      <th>Solution Type</th>\n",
       "      <th>Deal Date</th>\n",
       "      <th>Sector</th>\n",
       "      <th>Location</th>\n",
       "      <th>VP Name</th>\n",
       "      <th>Manager Name</th>\n",
       "    </tr>\n",
       "  </thead>\n",
       "  <tbody>\n",
       "    <tr>\n",
       "      <th>count</th>\n",
       "      <td>10061</td>\n",
       "      <td>10061</td>\n",
       "      <td>10061</td>\n",
       "      <td>10061</td>\n",
       "      <td>10061</td>\n",
       "      <td>10061</td>\n",
       "      <td>10061</td>\n",
       "    </tr>\n",
       "    <tr>\n",
       "      <th>unique</th>\n",
       "      <td>41</td>\n",
       "      <td>67</td>\n",
       "      <td>2555</td>\n",
       "      <td>25</td>\n",
       "      <td>13</td>\n",
       "      <td>43</td>\n",
       "      <td>278</td>\n",
       "    </tr>\n",
       "    <tr>\n",
       "      <th>top</th>\n",
       "      <td>Others</td>\n",
       "      <td>Solution 32</td>\n",
       "      <td>27-Jul-18</td>\n",
       "      <td>Sector 23</td>\n",
       "      <td>L10</td>\n",
       "      <td>Mervin Harwood</td>\n",
       "      <td>Molly Eakes</td>\n",
       "    </tr>\n",
       "    <tr>\n",
       "      <th>freq</th>\n",
       "      <td>1842</td>\n",
       "      <td>1439</td>\n",
       "      <td>15</td>\n",
       "      <td>2693</td>\n",
       "      <td>3360</td>\n",
       "      <td>1166</td>\n",
       "      <td>323</td>\n",
       "    </tr>\n",
       "  </tbody>\n",
       "</table>\n",
       "</div>"
      ],
      "text/plain": [
       "       Client Category Solution Type  Deal Date     Sector Location  \\\n",
       "count            10061         10061      10061      10061    10061   \n",
       "unique              41            67       2555         25       13   \n",
       "top             Others   Solution 32  27-Jul-18  Sector 23      L10   \n",
       "freq              1842          1439         15       2693     3360   \n",
       "\n",
       "               VP Name Manager Name  \n",
       "count            10061        10061  \n",
       "unique              43          278  \n",
       "top     Mervin Harwood  Molly Eakes  \n",
       "freq              1166          323  "
      ]
     },
     "execution_count": 76,
     "metadata": {},
     "output_type": "execute_result"
    }
   ],
   "source": [
    "data.describe(include='O')              #O-object"
   ]
  },
  {
   "cell_type": "code",
   "execution_count": 77,
   "id": "61237043",
   "metadata": {},
   "outputs": [
    {
     "data": {
      "text/html": [
       "<div>\n",
       "<style scoped>\n",
       "    .dataframe tbody tr th:only-of-type {\n",
       "        vertical-align: middle;\n",
       "    }\n",
       "\n",
       "    .dataframe tbody tr th {\n",
       "        vertical-align: top;\n",
       "    }\n",
       "\n",
       "    .dataframe thead th {\n",
       "        text-align: right;\n",
       "    }\n",
       "</style>\n",
       "<table border=\"1\" class=\"dataframe\">\n",
       "  <thead>\n",
       "    <tr style=\"text-align: right;\">\n",
       "      <th></th>\n",
       "      <th>Client Category</th>\n",
       "      <th>Solution Type</th>\n",
       "      <th>Deal Date</th>\n",
       "      <th>Sector</th>\n",
       "      <th>Location</th>\n",
       "      <th>VP Name</th>\n",
       "      <th>Manager Name</th>\n",
       "      <th>Deal Cost</th>\n",
       "    </tr>\n",
       "  </thead>\n",
       "  <tbody>\n",
       "    <tr>\n",
       "      <th>0</th>\n",
       "      <td>Telecom</td>\n",
       "      <td>Solution 7</td>\n",
       "      <td>27-Mar-12</td>\n",
       "      <td>Sector 24</td>\n",
       "      <td>L5</td>\n",
       "      <td>Ekta Zutshi</td>\n",
       "      <td>Gopa Trilochana</td>\n",
       "      <td>150000.00</td>\n",
       "    </tr>\n",
       "    <tr>\n",
       "      <th>1</th>\n",
       "      <td>Telecom</td>\n",
       "      <td>Solution 7</td>\n",
       "      <td>25-Sep-12</td>\n",
       "      <td>Sector 24</td>\n",
       "      <td>L5</td>\n",
       "      <td>Ekta Zutshi</td>\n",
       "      <td>Gopa Trilochana</td>\n",
       "      <td>744705.88</td>\n",
       "    </tr>\n",
       "  </tbody>\n",
       "</table>\n",
       "</div>"
      ],
      "text/plain": [
       "  Client Category Solution Type  Deal Date     Sector Location      VP Name  \\\n",
       "0         Telecom    Solution 7  27-Mar-12  Sector 24       L5  Ekta Zutshi   \n",
       "1         Telecom    Solution 7  25-Sep-12  Sector 24       L5  Ekta Zutshi   \n",
       "\n",
       "      Manager Name  Deal Cost  \n",
       "0  Gopa Trilochana  150000.00  \n",
       "1  Gopa Trilochana  744705.88  "
      ]
     },
     "execution_count": 77,
     "metadata": {},
     "output_type": "execute_result"
    }
   ],
   "source": [
    "data.head(2)"
   ]
  },
  {
   "cell_type": "code",
   "execution_count": 78,
   "id": "4390ff04",
   "metadata": {},
   "outputs": [
    {
     "data": {
      "image/png": "[encoded data removed]",
      "text/plain": [
       "<Figure size 432x288 with 1 Axes>"
      ]
     },
     "metadata": {},
     "output_type": "display_data"
    },
    {
     "data": {
      "image/png": "[encoded data removed]",
      "text/plain": [
       "<Figure size 432x288 with 1 Axes>"
      ]
     },
     "metadata": {
      "needs_background": "light"
     },
     "output_type": "display_data"
    },
    {
     "data": {
      "image/png": "[encoded data removed]",
      "text/plain": [
       "<Figure size 432x288 with 1 Axes>"
      ]
     },
     "metadata": {},
     "output_type": "display_data"
    },
    {
     "data": {
      "image/png": "[encoded data removed]",
      "text/plain": [
       "<Figure size 432x288 with 1 Axes>"
      ]
     },
     "metadata": {
      "needs_background": "light"
     },
     "output_type": "display_data"
    },
    {
     "data": {
      "image/png": "[encoded data removed]",
      "text/plain": [
       "<Figure size 432x288 with 1 Axes>"
      ]
     },
     "metadata": {},
     "output_type": "display_data"
    },
    {
     "data": {
      "image/png": "[encoded data removed]",
      "text/plain": [
       "<Figure size 432x288 with 1 Axes>"
      ]
     },
     "metadata": {
      "needs_background": "light"
     },
     "output_type": "display_data"
    },
    {
     "data": {
      "image/png": "[encoded data removed]",
      "text/plain": [
       "<Figure size 432x288 with 1 Axes>"
      ]
     },
     "metadata": {},
     "output_type": "display_data"
    },
    {
     "data": {
      "image/png": "[encoded data removed]",
      "text/plain": [
       "<Figure size 432x288 with 1 Axes>"
      ]
     },
     "metadata": {
      "needs_background": "light"
     },
     "output_type": "display_data"
    },
    {
     "data": {
      "image/png": "[encoded data removed]",
      "text/plain": [
       "<Figure size 432x288 with 1 Axes>"
      ]
     },
     "metadata": {},
     "output_type": "display_data"
    },
    {
     "data": {
      "image/png": "[encoded data removed]",
      "text/plain": [
       "<Figure size 432x288 with 1 Axes>"
      ]
     },
     "metadata": {
      "needs_background": "light"
     },
     "output_type": "display_data"
    },
    {
     "data": {
      "image/png": "[encoded data removed]",
      "text/plain": [
       "<Figure size 432x288 with 1 Axes>"
      ]
     },
     "metadata": {},
     "output_type": "display_data"
    },
    {
     "data": {
      "image/png": "[encoded data removed]",
      "text/plain": [
       "<Figure size 432x288 with 1 Axes>"
      ]
     },
     "metadata": {
      "needs_background": "light"
     },
     "output_type": "display_data"
    },
    {
     "data": {
      "image/png": "[encoded data removed]",
      "text/plain": [
       "<Figure size 432x288 with 1 Axes>"
      ]
     },
     "metadata": {},
     "output_type": "display_data"
    },
    {
     "data": {
      "image/png": "[encoded data removed]",
      "text/plain": [
       "<Figure size 432x288 with 1 Axes>"
      ]
     },
     "metadata": {
      "needs_background": "light"
     },
     "output_type": "display_data"
    }
   ],
   "source": [
    "for col in data.columns:\n",
    "     if data[col].dtype == 'object':\n",
    "            plt_data=data[col].value_counts()\n",
    "            data_index=data[col].value_counts().index\n",
    "            plt.pie(plt_data[:5],labels=data_index[:5],autopct='%1.2f%%')\n",
    "            plt.title(col)\n",
    "            plt.show()\n",
    "            plt_data[:5].plot(kind='barh')\n",
    "            plt.show()"
   ]
  },
  {
   "cell_type": "code",
   "execution_count": 79,
   "id": "046db112",
   "metadata": {},
   "outputs": [
    {
     "data": {
      "text/plain": [
       "Lost    6306\n",
       "Won     3755\n",
       "Name: Deal Status Code, dtype: int64"
      ]
     },
     "execution_count": 79,
     "metadata": {},
     "output_type": "execute_result"
    }
   ],
   "source": [
    "Deal_Status_code=df['Deal Status Code'].value_counts()\n",
    "Deal_Status_code"
   ]
  },
  {
   "cell_type": "code",
   "execution_count": 80,
   "id": "cf7f7da9",
   "metadata": {},
   "outputs": [],
   "source": [
    "Deal_Status_code_index=df['Deal Status Code'].value_counts().index"
   ]
  },
  {
   "cell_type": "code",
   "execution_count": 81,
   "id": "b5fc2ffe",
   "metadata": {},
   "outputs": [
    {
     "data": {
      "image/png": "[encoded data removed]",
      "text/plain": [
       "<Figure size 432x288 with 1 Axes>"
      ]
     },
     "metadata": {},
     "output_type": "display_data"
    }
   ],
   "source": [
    "plt.pie(Deal_Status_code,labels=Deal_Status_code_index,autopct=\"%1.2f%%\")\n",
    "plt.show()"
   ]
  },
  {
   "cell_type": "code",
   "execution_count": 82,
   "id": "fac2f604",
   "metadata": {},
   "outputs": [
    {
     "data": {
      "text/plain": [
       "<AxesSubplot:>"
      ]
     },
     "execution_count": 82,
     "metadata": {},
     "output_type": "execute_result"
    },
    {
     "data": {
      "image/png": "[encoded data removed]",
      "text/plain": [
       "<Figure size 432x288 with 1 Axes>"
      ]
     },
     "metadata": {
      "needs_background": "light"
     },
     "output_type": "display_data"
    }
   ],
   "source": [
    "Deal_Status_code.plot(kind='barh')"
   ]
  },
  {
   "cell_type": "markdown",
   "id": "8293ffc8",
   "metadata": {},
   "source": [
    "# Relation between target variable and Independent variables"
   ]
  },
  {
   "cell_type": "code",
   "execution_count": 83,
   "id": "93546871",
   "metadata": {},
   "outputs": [
    {
     "data": {
      "text/html": [
       "<div>\n",
       "<style scoped>\n",
       "    .dataframe tbody tr th:only-of-type {\n",
       "        vertical-align: middle;\n",
       "    }\n",
       "\n",
       "    .dataframe tbody tr th {\n",
       "        vertical-align: top;\n",
       "    }\n",
       "\n",
       "    .dataframe thead th {\n",
       "        text-align: right;\n",
       "    }\n",
       "</style>\n",
       "<table border=\"1\" class=\"dataframe\">\n",
       "  <thead>\n",
       "    <tr style=\"text-align: right;\">\n",
       "      <th></th>\n",
       "      <th>Client Category</th>\n",
       "      <th>Deal Status Code</th>\n",
       "      <th>Deal status count</th>\n",
       "    </tr>\n",
       "  </thead>\n",
       "  <tbody>\n",
       "    <tr>\n",
       "      <th>0</th>\n",
       "      <td>Airpline</td>\n",
       "      <td>Lost</td>\n",
       "      <td>22</td>\n",
       "    </tr>\n",
       "    <tr>\n",
       "      <th>1</th>\n",
       "      <td>Airpline</td>\n",
       "      <td>Won</td>\n",
       "      <td>5</td>\n",
       "    </tr>\n",
       "    <tr>\n",
       "      <th>2</th>\n",
       "      <td>Automobiles</td>\n",
       "      <td>Lost</td>\n",
       "      <td>112</td>\n",
       "    </tr>\n",
       "    <tr>\n",
       "      <th>3</th>\n",
       "      <td>Automobiles</td>\n",
       "      <td>Won</td>\n",
       "      <td>66</td>\n",
       "    </tr>\n",
       "    <tr>\n",
       "      <th>4</th>\n",
       "      <td>Consulting</td>\n",
       "      <td>Lost</td>\n",
       "      <td>182</td>\n",
       "    </tr>\n",
       "    <tr>\n",
       "      <th>...</th>\n",
       "      <td>...</td>\n",
       "      <td>...</td>\n",
       "      <td>...</td>\n",
       "    </tr>\n",
       "    <tr>\n",
       "      <th>77</th>\n",
       "      <td>Tech</td>\n",
       "      <td>Won</td>\n",
       "      <td>313</td>\n",
       "    </tr>\n",
       "    <tr>\n",
       "      <th>78</th>\n",
       "      <td>Telecom</td>\n",
       "      <td>Lost</td>\n",
       "      <td>192</td>\n",
       "    </tr>\n",
       "    <tr>\n",
       "      <th>79</th>\n",
       "      <td>Telecom</td>\n",
       "      <td>Won</td>\n",
       "      <td>135</td>\n",
       "    </tr>\n",
       "    <tr>\n",
       "      <th>80</th>\n",
       "      <td>e-commerce</td>\n",
       "      <td>Lost</td>\n",
       "      <td>20</td>\n",
       "    </tr>\n",
       "    <tr>\n",
       "      <th>81</th>\n",
       "      <td>e-commerce</td>\n",
       "      <td>Won</td>\n",
       "      <td>12</td>\n",
       "    </tr>\n",
       "  </tbody>\n",
       "</table>\n",
       "<p>82 rows × 3 columns</p>\n",
       "</div>"
      ],
      "text/plain": [
       "   Client Category Deal Status Code  Deal status count\n",
       "0         Airpline             Lost                 22\n",
       "1         Airpline              Won                  5\n",
       "2      Automobiles             Lost                112\n",
       "3      Automobiles              Won                 66\n",
       "4       Consulting             Lost                182\n",
       "..             ...              ...                ...\n",
       "77            Tech              Won                313\n",
       "78         Telecom             Lost                192\n",
       "79         Telecom              Won                135\n",
       "80      e-commerce             Lost                 20\n",
       "81      e-commerce              Won                 12\n",
       "\n",
       "[82 rows x 3 columns]"
      ]
     },
     "execution_count": 83,
     "metadata": {},
     "output_type": "execute_result"
    }
   ],
   "source": [
    "re_client_cat=df[['Client Category','Deal Status Code']].groupby(['Client Category',\n",
    "                            'Deal Status Code']).size().reset_index().rename(columns={0:'Deal status count'})\n",
    "re_client_cat"
   ]
  },
  {
   "cell_type": "code",
   "execution_count": 84,
   "id": "bfa7ec35",
   "metadata": {},
   "outputs": [
    {
     "name": "stdout",
     "output_type": "stream",
     "text": [
      "\n",
      "\n",
      "\u001b[1mClient Category\u001b[0m\n",
      "   Client Category Deal Status Code  Deal status count\n",
      "0         Airpline             Lost                 22\n",
      "1         Airpline              Won                  5\n",
      "2      Automobiles             Lost                112\n",
      "3      Automobiles              Won                 66\n",
      "4       Consulting             Lost                182\n",
      "..             ...              ...                ...\n",
      "77            Tech              Won                313\n",
      "78         Telecom             Lost                192\n",
      "79         Telecom              Won                135\n",
      "80      e-commerce             Lost                 20\n",
      "81      e-commerce              Won                 12\n",
      "\n",
      "[82 rows x 3 columns]\n",
      "\n",
      "\n",
      "\u001b[1mSolution Type\u001b[0m\n",
      "    Solution Type Deal Status Code  Deal status count\n",
      "0      Solution 1             Lost                  2\n",
      "1      Solution 1              Won                  3\n",
      "2     Solution 10             Lost                690\n",
      "3     Solution 10              Won                326\n",
      "4     Solution 11             Lost                 88\n",
      "..            ...              ...                ...\n",
      "111    Solution 7              Won                 62\n",
      "112    Solution 8             Lost                190\n",
      "113    Solution 8              Won                184\n",
      "114    Solution 9             Lost               1018\n",
      "115    Solution 9              Won                400\n",
      "\n",
      "[116 rows x 3 columns]\n",
      "\n",
      "\n",
      "\u001b[1mDeal Date\u001b[0m\n",
      "     Deal Date Deal Status Code  Deal status count\n",
      "0     1-Apr-12             Lost                  1\n",
      "1     1-Apr-14             Lost                  1\n",
      "2     1-Apr-14              Won                  2\n",
      "3     1-Apr-15             Lost                  2\n",
      "4     1-Apr-15              Won                  1\n",
      "...        ...              ...                ...\n",
      "4181  9-Sep-16              Won                  2\n",
      "4182  9-Sep-17             Lost                  7\n",
      "4183  9-Sep-17              Won                  1\n",
      "4184  9-Sep-18             Lost                  2\n",
      "4185  9-Sep-18              Won                  2\n",
      "\n",
      "[4186 rows x 3 columns]\n",
      "\n",
      "\n",
      "\u001b[1mSector\u001b[0m\n",
      "       Sector Deal Status Code  Deal status count\n",
      "0    Sector 1             Lost                158\n",
      "1    Sector 1              Won                 73\n",
      "2   Sector 10             Lost                  2\n",
      "3   Sector 10              Won                  1\n",
      "4   Sector 11             Lost                 86\n",
      "5   Sector 11              Won                 28\n",
      "6   Sector 12             Lost                406\n",
      "7   Sector 12              Won                201\n",
      "8   Sector 13             Lost                148\n",
      "9   Sector 13              Won                 37\n",
      "10  Sector 14             Lost                 82\n",
      "11  Sector 14              Won                 27\n",
      "12  Sector 15             Lost                234\n",
      "13  Sector 15              Won                153\n",
      "14  Sector 16             Lost                316\n",
      "15  Sector 16              Won                158\n",
      "16  Sector 17             Lost                274\n",
      "17  Sector 17              Won                200\n",
      "18  Sector 18             Lost                172\n",
      "19  Sector 18              Won                 79\n",
      "20  Sector 19             Lost                 84\n",
      "21  Sector 19              Won                 58\n",
      "22   Sector 2             Lost               1152\n",
      "23   Sector 2              Won                596\n",
      "24  Sector 20             Lost                384\n",
      "25  Sector 20              Won                389\n",
      "26  Sector 21             Lost                 10\n",
      "27  Sector 21              Won                 20\n",
      "28  Sector 22             Lost                 90\n",
      "29  Sector 22              Won                 54\n",
      "30  Sector 23             Lost               1640\n",
      "31  Sector 23              Won               1053\n",
      "32  Sector 24             Lost                360\n",
      "33  Sector 24              Won                218\n",
      "34  Sector 25             Lost                178\n",
      "35  Sector 25              Won                 95\n",
      "36   Sector 3             Lost                 90\n",
      "37   Sector 3              Won                 45\n",
      "38   Sector 4             Lost                 88\n",
      "39   Sector 4              Won                 40\n",
      "40   Sector 5             Lost                 52\n",
      "41   Sector 5              Won                 12\n",
      "42   Sector 6             Lost                 62\n",
      "43   Sector 6              Won                 34\n",
      "44   Sector 7             Lost                  6\n",
      "45   Sector 7              Won                  8\n",
      "46   Sector 8             Lost                 30\n",
      "47   Sector 8              Won                  9\n",
      "48   Sector 9             Lost                202\n",
      "49   Sector 9              Won                167\n",
      "\n",
      "\n",
      "\u001b[1mLocation\u001b[0m\n",
      "   Location Deal Status Code  Deal status count\n",
      "0        L1             Lost                912\n",
      "1        L1              Won                660\n",
      "2       L10             Lost               2230\n",
      "3       L10              Won               1130\n",
      "4       L11             Lost                232\n",
      "5       L11              Won                135\n",
      "6       L12             Lost                178\n",
      "7       L12              Won                 98\n",
      "8        L2             Lost                  6\n",
      "9        L2              Won                  2\n",
      "10       L3             Lost                356\n",
      "11       L3              Won                200\n",
      "12       L4             Lost                126\n",
      "13       L4              Won                 62\n",
      "14       L5             Lost               1392\n",
      "15       L5              Won                936\n",
      "16       L6             Lost                 70\n",
      "17       L6              Won                 30\n",
      "18       L7             Lost                174\n",
      "19       L7              Won                 64\n",
      "20       L8             Lost                 10\n",
      "21       L8              Won                  1\n",
      "22       L9             Lost                194\n",
      "23       L9              Won                 46\n",
      "24   Others             Lost                426\n",
      "25   Others              Won                391\n",
      "\n",
      "\n",
      "\u001b[1mVP Name\u001b[0m\n",
      "            VP Name Deal Status Code  Deal status count\n",
      "0         Alam Syed             Lost                 62\n",
      "1         Alam Syed              Won                 64\n",
      "2   Ankita Aggarwal             Lost                866\n",
      "3   Ankita Aggarwal              Won                277\n",
      "4    Brendon Wycoff             Lost                132\n",
      "..              ...              ...                ...\n",
      "77        md. afsar             Lost                  2\n",
      "78     neeraj kumar             Lost                254\n",
      "79     neeraj kumar              Won                217\n",
      "80         som dutt             Lost                138\n",
      "81         som dutt              Won                 82\n",
      "\n",
      "[82 rows x 3 columns]\n",
      "\n",
      "\n",
      "\u001b[1mManager Name\u001b[0m\n",
      "         Manager Name Deal Status Code  Deal status count\n",
      "0       Aastha Gandhi              Won                  1\n",
      "1     Abhinav Warrier             Lost                 80\n",
      "2     Abhinav Warrier              Won                 15\n",
      "3    Abhishek Singhal             Lost                 44\n",
      "4    Abhishek Singhal              Won                 23\n",
      "..                ...              ...                ...\n",
      "470       sunder paal              Won                  6\n",
      "471         vansu dev             Lost                 78\n",
      "472         vansu dev              Won                 54\n",
      "473    vinit katariya             Lost                 14\n",
      "474    vinit katariya              Won                  2\n",
      "\n",
      "[475 rows x 3 columns]\n",
      "\n",
      "\n",
      "\u001b[1mDeal Cost\u001b[0m\n",
      "        Deal Cost Deal Status Code  Deal status count\n",
      "0            0.00             Lost                242\n",
      "1            0.00              Won                  4\n",
      "2          294.12             Lost                  2\n",
      "3          588.24              Won                  1\n",
      "4          882.35              Won                  1\n",
      "...           ...              ...                ...\n",
      "1831  26352941.18              Won                  1\n",
      "1832  27941176.47             Lost                  2\n",
      "1833  29411764.71              Won                  1\n",
      "1834  32352941.18             Lost                  2\n",
      "1835  36764705.88              Won                  1\n",
      "\n",
      "[1836 rows x 3 columns]\n"
     ]
    }
   ],
   "source": [
    "for col in data.columns:\n",
    "    col_reln=df[[col,'Deal Status Code']].groupby([col,'Deal Status Code']).size().reset_index().rename(columns={0:'Deal status count'})\n",
    "    print('\\n')\n",
    "    print('\\033[1m'+col+'\\033[0m')\n",
    "    print(col_reln)"
   ]
  },
  {
   "cell_type": "code",
   "execution_count": 85,
   "id": "6df180f1",
   "metadata": {},
   "outputs": [
    {
     "name": "stdout",
     "output_type": "stream",
     "text": [
      "\u001b[1mClient Category\u001b[0m\n",
      "Client Category        Airpline    Automobiles    Consulting  Consumer Good  \\\n",
      "Deal Status Code                                                              \n",
      "Lost              482887.701818  706355.042679  6.088462e+05  629885.954898   \n",
      "Won               549411.768000  537281.641061  1.528884e+06  859452.332644   \n",
      "\n",
      "Client Category   Domestic Bank  Domestic Private Bank  Domestic Public Bank  \\\n",
      "Deal Status Code                                                               \n",
      "Lost               1.495498e+06          881407.086023          1.070093e+06   \n",
      "Won                1.919716e+06          688611.491860          5.993003e+05   \n",
      "\n",
      "Client Category     Electronics        Energy        Energy   ...  \\\n",
      "Deal Status Code                                              ...   \n",
      "Lost              553812.637407  1.557206e+06  694726.890714  ...   \n",
      "Won               596633.987407  6.761059e+05  926633.987778  ...   \n",
      "\n",
      "Client Category      Power ind    Real Estate  Research Development  \\\n",
      "Deal Status Code                                                      \n",
      "Lost              9.021130e+05  471428.572857         313631.713478   \n",
      "Won               1.236523e+06  291764.706000         343373.701765   \n",
      "\n",
      "Client Category   Retail_market  Services_based  Share_market  Tax_audit  \\\n",
      "Deal Status Code                                                           \n",
      "Lost              567291.898302   537604.830680    154411.765  421568.63   \n",
      "Won               425058.824000   565286.188578     94558.823  397058.82   \n",
      "\n",
      "Client Category            Tech       Telecom     e-commerce  \n",
      "Deal Status Code                                              \n",
      "Lost              656327.451533  1.299476e+06  378970.589000  \n",
      "Won               518243.751629  1.343050e+06  636151.960833  \n",
      "\n",
      "[2 rows x 41 columns]\n",
      "\n",
      "\n",
      "\u001b[1mSolution Type\u001b[0m\n",
      "Solution Type     Solution 1    Solution 10   Solution 11    Solution 12  \\\n",
      "Deal Status Code                                                           \n",
      "Lost               224117.65  676461.210986  1.543663e+06  825068.800058   \n",
      "Won                150196.08  594538.975828  3.059717e+06  897737.095714   \n",
      "\n",
      "Solution Type       Solution 13   Solution 14    Solution 15    Solution 16  \\\n",
      "Deal Status Code                                                              \n",
      "Lost              826709.730748  1.018263e+06  889215.686667  608529.412222   \n",
      "Won               702220.889286  5.171639e+05  347794.115000  650735.295000   \n",
      "\n",
      "Solution Type      Solution 17  Solution 18  ...   Solution 61  Solution 62  \\\n",
      "Deal Status Code                             ...                              \n",
      "Lost              1.029412e+06          NaN  ...  2.458824e+06  2794117.650   \n",
      "Won               6.669118e+05     225000.0  ...  1.279816e+06  3708970.585   \n",
      "\n",
      "Solution Type     Solution 63  Solution 64  Solution 65  Solution 66  \\\n",
      "Deal Status Code                                                       \n",
      "Lost               2205882.35          NaN  1647058.820          NaN   \n",
      "Won                       NaN    640588.24   913411.767    185294.12   \n",
      "\n",
      "Solution Type       Solution 67    Solution 7    Solution 8     Solution 9  \n",
      "Deal Status Code                                                            \n",
      "Lost              837821.511176  1.000188e+06  7.546873e+05  659805.270314  \n",
      "Won               648808.489830  5.597296e+05  1.095985e+06  602606.618200  \n",
      "\n",
      "[2 rows x 67 columns]\n",
      "\n",
      "\n",
      "\u001b[1mDeal Date\u001b[0m\n",
      "Deal Date         1-Apr-12   1-Apr-14    1-Apr-15  1-Apr-16       1-Apr-17  \\\n",
      "Deal Status Code                                                             \n",
      "Lost                   0.0  529411.77     1470.59       NaN  568627.453333   \n",
      "Won                    NaN  105294.12  1058823.53  29411.77  132352.945000   \n",
      "\n",
      "Deal Date          1-Apr-18   1-Apr-19  1-Aug-11      1-Aug-12  1-Aug-13  ...  \\\n",
      "Deal Status Code                                                          ...   \n",
      "Lost              247352.94  235294.12   60000.0  4.616176e+06       NaN  ...   \n",
      "Won               432941.18        NaN       NaN           NaN  51470.59  ...   \n",
      "\n",
      "Deal Date          9-Oct-16      9-Oct-17    9-Oct-18   9-Sep-12    9-Sep-13  \\\n",
      "Deal Status Code                                                               \n",
      "Lost              810343.14  1.020956e+06  553823.532  294117.65  119558.825   \n",
      "Won               215588.24  7.561029e+05  173676.470        NaN  316176.470   \n",
      "\n",
      "Deal Date           9-Sep-14   9-Sep-15       9-Sep-16      9-Sep-17  \\\n",
      "Deal Status Code                                                       \n",
      "Lost                     NaN  364705.88  634313.726667  1.308403e+06   \n",
      "Won               269117.645  250000.00  764705.885000  1.029412e+06   \n",
      "\n",
      "Deal Date            9-Sep-18  \n",
      "Deal Status Code               \n",
      "Lost               985294.115  \n",
      "Won               1757352.945  \n",
      "\n",
      "[2 rows x 2555 columns]\n",
      "\n",
      "\n",
      "\u001b[1mSector\u001b[0m\n",
      "Sector                 Sector 1  Sector 10      Sector 11      Sector 12  \\\n",
      "Deal Status Code                                                           \n",
      "Lost              613037.974810   29411.77  739172.366977  535514.343744   \n",
      "Won               524375.504795  311176.47  388245.799286  739632.719204   \n",
      "\n",
      "Sector               Sector 13      Sector 14      Sector 15     Sector 16  \\\n",
      "Deal Status Code                                                             \n",
      "Lost              1.421940e+06  362345.768049  813788.336154  1.255285e+06   \n",
      "Won               6.606916e+05  544716.777037  438658.208824  6.957036e+05   \n",
      "\n",
      "Sector               Sector 17      Sector 18  ...      Sector 23  \\\n",
      "Deal Status Code                               ...                  \n",
      "Lost              7.797553e+05  832332.421860  ...  558666.786695   \n",
      "Won               1.027609e+06  775491.437342  ...  669064.577854   \n",
      "\n",
      "Sector               Sector 24      Sector 25       Sector 3       Sector 4  \\\n",
      "Deal Status Code                                                              \n",
      "Lost              1.274191e+06  494263.053820  509679.739333  721584.224773   \n",
      "Won               1.204060e+06  418922.600842  390013.072000  404661.765500   \n",
      "\n",
      "Sector                 Sector 5       Sector 6       Sector 7       Sector 8  \\\n",
      "Deal Status Code                                                               \n",
      "Lost              463857.466538  466318.786129  852941.176667  462215.686667   \n",
      "Won               201715.686667  354636.679118  352500.000000  276143.788889   \n",
      "\n",
      "Sector                Sector 9  \n",
      "Deal Status Code                \n",
      "Lost              8.439487e+05  \n",
      "Won               1.180248e+06  \n",
      "\n",
      "[2 rows x 25 columns]\n",
      "\n",
      "\n",
      "\u001b[1mLocation\u001b[0m\n",
      "Location                     L1            L10            L11           L12  \\\n",
      "Deal Status Code                                                              \n",
      "Lost              568322.368838  838808.757964  394284.990431  1.152743e+06   \n",
      "Won               788830.659970  784242.842699  541379.085778  6.652551e+05   \n",
      "\n",
      "Location                    L2             L3             L4             L5  \\\n",
      "Deal Status Code                                                              \n",
      "Lost              1.205882e+06  482105.089944  586475.257143  793381.085661   \n",
      "Won               7.132353e+05  384011.765300  416465.845161  784038.147735   \n",
      "\n",
      "Location                     L6             L7           L8             L9  \\\n",
      "Deal Status Code                                                             \n",
      "Lost              686176.471429  538164.300575  1461764.704  592328.684845   \n",
      "Won               316196.079000  466530.331250    73529.410  348299.234130   \n",
      "\n",
      "Location                Others  \n",
      "Deal Status Code                \n",
      "Lost              1.065552e+06  \n",
      "Won               1.303086e+06  \n",
      "\n",
      "\n",
      "\u001b[1mVP Name\u001b[0m\n",
      "VP Name              Alam Syed  Ankita Aggarwal  Brendon Wycoff  \\\n",
      "Deal Status Code                                                  \n",
      "Lost              1.087144e+06     654206.63000    1.096894e+06   \n",
      "Won               1.172937e+06     503528.35065    1.909288e+06   \n",
      "\n",
      "VP Name            Clinton Mani    Dennis Faux  Earline Langton   Ekta Zutshi  \\\n",
      "Deal Status Code                                                                \n",
      "Lost              776755.218548  554656.861667     1.189219e+06  7.912821e+05   \n",
      "Won               600857.843500  315294.120000     6.034314e+05  1.021396e+06   \n",
      "\n",
      "VP Name           Gaurav Sameria  Gayle Molter  Gopa Trilochana  ...  \\\n",
      "Deal Status Code                                                 ...   \n",
      "Lost               554590.017879  7.291971e+05     1.464321e+06  ...   \n",
      "Won                586433.823958  1.282863e+06     8.195701e+05  ...   \n",
      "\n",
      "VP Name           Saurabh Singh  Son Mcconnaughy  Varsha Arora    Vidur Hukle  \\\n",
      "Deal Status Code                                                                \n",
      "Lost              761066.176429     1.517227e+06  7.272255e+05  615517.241724   \n",
      "Won               962863.052187     5.470632e+05  3.454505e+06  540581.233095   \n",
      "\n",
      "VP Name           Vikram Rawat  Visvajeet Das  Waylon Mulder   md. afsar  \\\n",
      "Deal Status Code                                                           \n",
      "Lost              1.681103e+06     1176470.59      235294.12  3235294.12   \n",
      "Won               5.161111e+05     5588235.29       88235.29         NaN   \n",
      "\n",
      "VP Name            neeraj kumar       som dutt  \n",
      "Deal Status Code                                \n",
      "Lost              478943.956142  554650.469710  \n",
      "Won               693700.190092  562977.044756  \n",
      "\n",
      "[2 rows x 43 columns]\n",
      "\n",
      "\n"
     ]
    },
    {
     "name": "stdout",
     "output_type": "stream",
     "text": [
      "\u001b[1mManager Name\u001b[0m\n",
      "Manager Name      Aastha Gandhi  Abhinav Warrier  Abhishek Singhal  \\\n",
      "Deal Status Code                                                     \n",
      "Lost                        NaN    588808.824000     772860.963182   \n",
      "Won                   242647.06    302235.296667     476956.522609   \n",
      "\n",
      "Manager Name      Abhiskek Kumar   Abhiskhek  D    Abram Fines  Aditya Kumar  \\\n",
      "Deal Status Code                                                               \n",
      "Lost               949894.957857  440767.973889  501764.706000     792647.06   \n",
      "Won                587507.740789  375658.823600  714127.789655     250367.65   \n",
      "\n",
      "Manager Name      Aditya Tondon   Ahdarsha Jha  Ahswini Saini  ...  \\\n",
      "Deal Status Code                                               ...   \n",
      "Lost                 1058823.53  924866.311818     1029411.77  ...   \n",
      "Won                         NaN  351102.940000      601470.59  ...   \n",
      "\n",
      "Manager Name          shafibul  sharat chandran   sheak shakir  shiv kumar  \\\n",
      "Deal Status Code                                                             \n",
      "Lost              2.867647e+06       441176.470  882352.940000   219019.61   \n",
      "Won                        NaN       989411.765  461127.451667         NaN   \n",
      "\n",
      "Manager Name      shiv shakti singh    shyam kumar   som dutt  sunder paal  \\\n",
      "Deal Status Code                                                             \n",
      "Lost                     1470588.24  715250.000000        NaN   882352.940   \n",
      "Won                             NaN  307769.608333  198627.45   371960.785   \n",
      "\n",
      "Manager Name         vansu dev  vinit katariya  \n",
      "Deal Status Code                                \n",
      "Lost              9.687406e+05    1.098739e+06  \n",
      "Won               1.253295e+06    3.917206e+06  \n",
      "\n",
      "[2 rows x 278 columns]\n",
      "\n",
      "\n"
     ]
    }
   ],
   "source": [
    "for col in data.columns[:7]:\n",
    "    pvt_table=pd.pivot_table(df,index='Deal Status Code',values='Deal Cost',\n",
    "                   columns=col)\n",
    "    print('\\033[1m'+col+'\\033[0m')\n",
    "    print(pvt_table)\n",
    "    print('\\n')"
   ]
  },
  {
   "cell_type": "code",
   "execution_count": 86,
   "id": "aec9815a",
   "metadata": {},
   "outputs": [
    {
     "data": {
      "text/html": [
       "<div>\n",
       "<style scoped>\n",
       "    .dataframe tbody tr th:only-of-type {\n",
       "        vertical-align: middle;\n",
       "    }\n",
       "\n",
       "    .dataframe tbody tr th {\n",
       "        vertical-align: top;\n",
       "    }\n",
       "\n",
       "    .dataframe thead th {\n",
       "        text-align: right;\n",
       "    }\n",
       "</style>\n",
       "<table border=\"1\" class=\"dataframe\">\n",
       "  <thead>\n",
       "    <tr style=\"text-align: right;\">\n",
       "      <th></th>\n",
       "      <th>Client Category</th>\n",
       "      <th>Solution Type</th>\n",
       "      <th>Deal Date</th>\n",
       "      <th>Sector</th>\n",
       "      <th>Location</th>\n",
       "      <th>VP Name</th>\n",
       "      <th>Manager Name</th>\n",
       "      <th>Deal Cost</th>\n",
       "    </tr>\n",
       "  </thead>\n",
       "  <tbody>\n",
       "    <tr>\n",
       "      <th>0</th>\n",
       "      <td>Telecom</td>\n",
       "      <td>Solution 7</td>\n",
       "      <td>27-Mar-12</td>\n",
       "      <td>Sector 24</td>\n",
       "      <td>L5</td>\n",
       "      <td>Ekta Zutshi</td>\n",
       "      <td>Gopa Trilochana</td>\n",
       "      <td>150000.00</td>\n",
       "    </tr>\n",
       "    <tr>\n",
       "      <th>1</th>\n",
       "      <td>Telecom</td>\n",
       "      <td>Solution 7</td>\n",
       "      <td>25-Sep-12</td>\n",
       "      <td>Sector 24</td>\n",
       "      <td>L5</td>\n",
       "      <td>Ekta Zutshi</td>\n",
       "      <td>Gopa Trilochana</td>\n",
       "      <td>744705.88</td>\n",
       "    </tr>\n",
       "  </tbody>\n",
       "</table>\n",
       "</div>"
      ],
      "text/plain": [
       "  Client Category Solution Type  Deal Date     Sector Location      VP Name  \\\n",
       "0         Telecom    Solution 7  27-Mar-12  Sector 24       L5  Ekta Zutshi   \n",
       "1         Telecom    Solution 7  25-Sep-12  Sector 24       L5  Ekta Zutshi   \n",
       "\n",
       "      Manager Name  Deal Cost  \n",
       "0  Gopa Trilochana  150000.00  \n",
       "1  Gopa Trilochana  744705.88  "
      ]
     },
     "execution_count": 86,
     "metadata": {},
     "output_type": "execute_result"
    }
   ],
   "source": [
    "data.head(2)"
   ]
  },
  {
   "cell_type": "markdown",
   "id": "6231dc61",
   "metadata": {},
   "source": [
    "# Data Transformation"
   ]
  },
  {
   "cell_type": "code",
   "execution_count": 87,
   "id": "ac00050f",
   "metadata": {},
   "outputs": [],
   "source": [
    "data['Deal Date']=pd.to_datetime(data['Deal Date'])"
   ]
  },
  {
   "cell_type": "code",
   "execution_count": 88,
   "id": "6306cea6",
   "metadata": {},
   "outputs": [
    {
     "data": {
      "text/html": [
       "<div>\n",
       "<style scoped>\n",
       "    .dataframe tbody tr th:only-of-type {\n",
       "        vertical-align: middle;\n",
       "    }\n",
       "\n",
       "    .dataframe tbody tr th {\n",
       "        vertical-align: top;\n",
       "    }\n",
       "\n",
       "    .dataframe thead th {\n",
       "        text-align: right;\n",
       "    }\n",
       "</style>\n",
       "<table border=\"1\" class=\"dataframe\">\n",
       "  <thead>\n",
       "    <tr style=\"text-align: right;\">\n",
       "      <th></th>\n",
       "      <th>Client Category</th>\n",
       "      <th>Solution Type</th>\n",
       "      <th>Deal Date</th>\n",
       "      <th>Sector</th>\n",
       "      <th>Location</th>\n",
       "      <th>VP Name</th>\n",
       "      <th>Manager Name</th>\n",
       "      <th>Deal Cost</th>\n",
       "    </tr>\n",
       "  </thead>\n",
       "  <tbody>\n",
       "    <tr>\n",
       "      <th>0</th>\n",
       "      <td>Telecom</td>\n",
       "      <td>Solution 7</td>\n",
       "      <td>2012-03-27</td>\n",
       "      <td>Sector 24</td>\n",
       "      <td>L5</td>\n",
       "      <td>Ekta Zutshi</td>\n",
       "      <td>Gopa Trilochana</td>\n",
       "      <td>150000.00</td>\n",
       "    </tr>\n",
       "    <tr>\n",
       "      <th>1</th>\n",
       "      <td>Telecom</td>\n",
       "      <td>Solution 7</td>\n",
       "      <td>2012-09-25</td>\n",
       "      <td>Sector 24</td>\n",
       "      <td>L5</td>\n",
       "      <td>Ekta Zutshi</td>\n",
       "      <td>Gopa Trilochana</td>\n",
       "      <td>744705.88</td>\n",
       "    </tr>\n",
       "  </tbody>\n",
       "</table>\n",
       "</div>"
      ],
      "text/plain": [
       "  Client Category Solution Type  Deal Date     Sector Location      VP Name  \\\n",
       "0         Telecom    Solution 7 2012-03-27  Sector 24       L5  Ekta Zutshi   \n",
       "1         Telecom    Solution 7 2012-09-25  Sector 24       L5  Ekta Zutshi   \n",
       "\n",
       "      Manager Name  Deal Cost  \n",
       "0  Gopa Trilochana  150000.00  \n",
       "1  Gopa Trilochana  744705.88  "
      ]
     },
     "execution_count": 88,
     "metadata": {},
     "output_type": "execute_result"
    }
   ],
   "source": [
    "data.head(2)"
   ]
  },
  {
   "cell_type": "code",
   "execution_count": 89,
   "id": "b49dfd03",
   "metadata": {},
   "outputs": [
    {
     "name": "stdout",
     "output_type": "stream",
     "text": [
      "<class 'pandas.core.frame.DataFrame'>\n",
      "RangeIndex: 10061 entries, 0 to 10060\n",
      "Data columns (total 8 columns):\n",
      " #   Column           Non-Null Count  Dtype         \n",
      "---  ------           --------------  -----         \n",
      " 0   Client Category  10061 non-null  object        \n",
      " 1   Solution Type    10061 non-null  object        \n",
      " 2   Deal Date        10061 non-null  datetime64[ns]\n",
      " 3   Sector           10061 non-null  object        \n",
      " 4   Location         10061 non-null  object        \n",
      " 5   VP Name          10061 non-null  object        \n",
      " 6   Manager Name     10061 non-null  object        \n",
      " 7   Deal Cost        10061 non-null  float64       \n",
      "dtypes: datetime64[ns](1), float64(1), object(6)\n",
      "memory usage: 628.9+ KB\n"
     ]
    }
   ],
   "source": [
    "data.info()"
   ]
  },
  {
   "cell_type": "code",
   "execution_count": 90,
   "id": "8b733ca7",
   "metadata": {},
   "outputs": [],
   "source": [
    "data['Deal_Date_Year']=data['Deal Date'].dt.year\n",
    "data['Deal_Date_Month']=data['Deal Date'].dt.month\n",
    "data['Deal_Date_Quarter']=data['Deal Date'].dt.quarter"
   ]
  },
  {
   "cell_type": "code",
   "execution_count": 91,
   "id": "17c06077",
   "metadata": {},
   "outputs": [
    {
     "data": {
      "text/html": [
       "<div>\n",
       "<style scoped>\n",
       "    .dataframe tbody tr th:only-of-type {\n",
       "        vertical-align: middle;\n",
       "    }\n",
       "\n",
       "    .dataframe tbody tr th {\n",
       "        vertical-align: top;\n",
       "    }\n",
       "\n",
       "    .dataframe thead th {\n",
       "        text-align: right;\n",
       "    }\n",
       "</style>\n",
       "<table border=\"1\" class=\"dataframe\">\n",
       "  <thead>\n",
       "    <tr style=\"text-align: right;\">\n",
       "      <th></th>\n",
       "      <th>Client Category</th>\n",
       "      <th>Solution Type</th>\n",
       "      <th>Deal Date</th>\n",
       "      <th>Sector</th>\n",
       "      <th>Location</th>\n",
       "      <th>VP Name</th>\n",
       "      <th>Manager Name</th>\n",
       "      <th>Deal Cost</th>\n",
       "      <th>Deal_Date_Year</th>\n",
       "      <th>Deal_Date_Month</th>\n",
       "      <th>Deal_Date_Quarter</th>\n",
       "    </tr>\n",
       "  </thead>\n",
       "  <tbody>\n",
       "    <tr>\n",
       "      <th>0</th>\n",
       "      <td>Telecom</td>\n",
       "      <td>Solution 7</td>\n",
       "      <td>2012-03-27</td>\n",
       "      <td>Sector 24</td>\n",
       "      <td>L5</td>\n",
       "      <td>Ekta Zutshi</td>\n",
       "      <td>Gopa Trilochana</td>\n",
       "      <td>150000.00</td>\n",
       "      <td>2012</td>\n",
       "      <td>3</td>\n",
       "      <td>1</td>\n",
       "    </tr>\n",
       "    <tr>\n",
       "      <th>1</th>\n",
       "      <td>Telecom</td>\n",
       "      <td>Solution 7</td>\n",
       "      <td>2012-09-25</td>\n",
       "      <td>Sector 24</td>\n",
       "      <td>L5</td>\n",
       "      <td>Ekta Zutshi</td>\n",
       "      <td>Gopa Trilochana</td>\n",
       "      <td>744705.88</td>\n",
       "      <td>2012</td>\n",
       "      <td>9</td>\n",
       "      <td>3</td>\n",
       "    </tr>\n",
       "    <tr>\n",
       "      <th>2</th>\n",
       "      <td>Internal</td>\n",
       "      <td>Solution 59</td>\n",
       "      <td>2011-08-01</td>\n",
       "      <td>Sector 20</td>\n",
       "      <td>Others</td>\n",
       "      <td>Ekta Zutshi</td>\n",
       "      <td>Russell Dahlen</td>\n",
       "      <td>60000.00</td>\n",
       "      <td>2011</td>\n",
       "      <td>8</td>\n",
       "      <td>3</td>\n",
       "    </tr>\n",
       "    <tr>\n",
       "      <th>3</th>\n",
       "      <td>Internal</td>\n",
       "      <td>Solution 59</td>\n",
       "      <td>2011-04-28</td>\n",
       "      <td>Sector 20</td>\n",
       "      <td>Others</td>\n",
       "      <td>Ekta Zutshi</td>\n",
       "      <td>Russell Dahlen</td>\n",
       "      <td>60000.00</td>\n",
       "      <td>2011</td>\n",
       "      <td>4</td>\n",
       "      <td>2</td>\n",
       "    </tr>\n",
       "    <tr>\n",
       "      <th>4</th>\n",
       "      <td>Internal</td>\n",
       "      <td>Solution 32</td>\n",
       "      <td>2011-06-03</td>\n",
       "      <td>Sector 20</td>\n",
       "      <td>Others</td>\n",
       "      <td>Ekta Zutshi</td>\n",
       "      <td>Russell Dahlen</td>\n",
       "      <td>80882.35</td>\n",
       "      <td>2011</td>\n",
       "      <td>6</td>\n",
       "      <td>2</td>\n",
       "    </tr>\n",
       "  </tbody>\n",
       "</table>\n",
       "</div>"
      ],
      "text/plain": [
       "  Client Category Solution Type  Deal Date     Sector Location      VP Name  \\\n",
       "0         Telecom    Solution 7 2012-03-27  Sector 24       L5  Ekta Zutshi   \n",
       "1         Telecom    Solution 7 2012-09-25  Sector 24       L5  Ekta Zutshi   \n",
       "2        Internal   Solution 59 2011-08-01  Sector 20   Others  Ekta Zutshi   \n",
       "3        Internal   Solution 59 2011-04-28  Sector 20   Others  Ekta Zutshi   \n",
       "4        Internal   Solution 32 2011-06-03  Sector 20   Others  Ekta Zutshi   \n",
       "\n",
       "      Manager Name  Deal Cost  Deal_Date_Year  Deal_Date_Month  \\\n",
       "0  Gopa Trilochana  150000.00            2012                3   \n",
       "1  Gopa Trilochana  744705.88            2012                9   \n",
       "2   Russell Dahlen   60000.00            2011                8   \n",
       "3   Russell Dahlen   60000.00            2011                4   \n",
       "4   Russell Dahlen   80882.35            2011                6   \n",
       "\n",
       "   Deal_Date_Quarter  \n",
       "0                  1  \n",
       "1                  3  \n",
       "2                  3  \n",
       "3                  2  \n",
       "4                  2  "
      ]
     },
     "execution_count": 91,
     "metadata": {},
     "output_type": "execute_result"
    }
   ],
   "source": [
    "data.head()"
   ]
  },
  {
   "cell_type": "code",
   "execution_count": 92,
   "id": "0bea3679",
   "metadata": {},
   "outputs": [
    {
     "data": {
      "text/plain": [
       "<AxesSubplot:xlabel='Deal_Date_Year', ylabel='Count'>"
      ]
     },
     "execution_count": 92,
     "metadata": {},
     "output_type": "execute_result"
    },
    {
     "data": {
      "image/png": "[encoded data removed]",
      "text/plain": [
       "<Figure size 432x288 with 1 Axes>"
      ]
     },
     "metadata": {
      "needs_background": "light"
     },
     "output_type": "display_data"
    }
   ],
   "source": [
    "sns.histplot(data['Deal_Date_Year'],bins=8)"
   ]
  },
  {
   "cell_type": "code",
   "execution_count": 93,
   "id": "76f82a7e",
   "metadata": {},
   "outputs": [
    {
     "data": {
      "text/plain": [
       "<AxesSubplot:xlabel='Deal_Date_Month', ylabel='Count'>"
      ]
     },
     "execution_count": 93,
     "metadata": {},
     "output_type": "execute_result"
    },
    {
     "data": {
      "image/png": "[encoded data removed]",
      "text/plain": [
       "<Figure size 432x288 with 1 Axes>"
      ]
     },
     "metadata": {
      "needs_background": "light"
     },
     "output_type": "display_data"
    }
   ],
   "source": [
    "sns.histplot(data['Deal_Date_Month'],bins=12)"
   ]
  },
  {
   "cell_type": "code",
   "execution_count": 94,
   "id": "32b41a82",
   "metadata": {},
   "outputs": [
    {
     "data": {
      "text/plain": [
       "<AxesSubplot:xlabel='Deal_Date_Quarter', ylabel='Count'>"
      ]
     },
     "execution_count": 94,
     "metadata": {},
     "output_type": "execute_result"
    },
    {
     "data": {
      "image/png": "[encoded data removed]",
      "text/plain": [
       "<Figure size 432x288 with 1 Axes>"
      ]
     },
     "metadata": {
      "needs_background": "light"
     },
     "output_type": "display_data"
    }
   ],
   "source": [
    "sns.histplot(data['Deal_Date_Quarter'],bins=4)"
   ]
  },
  {
   "cell_type": "code",
   "execution_count": 95,
   "id": "eb4d4389",
   "metadata": {},
   "outputs": [],
   "source": [
    "data=data.drop(['Deal Date'],axis=1)"
   ]
  },
  {
   "cell_type": "code",
   "execution_count": 96,
   "id": "a09fa2d0",
   "metadata": {},
   "outputs": [
    {
     "data": {
      "text/html": [
       "<div>\n",
       "<style scoped>\n",
       "    .dataframe tbody tr th:only-of-type {\n",
       "        vertical-align: middle;\n",
       "    }\n",
       "\n",
       "    .dataframe tbody tr th {\n",
       "        vertical-align: top;\n",
       "    }\n",
       "\n",
       "    .dataframe thead th {\n",
       "        text-align: right;\n",
       "    }\n",
       "</style>\n",
       "<table border=\"1\" class=\"dataframe\">\n",
       "  <thead>\n",
       "    <tr style=\"text-align: right;\">\n",
       "      <th></th>\n",
       "      <th>Client Category</th>\n",
       "      <th>Solution Type</th>\n",
       "      <th>Sector</th>\n",
       "      <th>Location</th>\n",
       "      <th>VP Name</th>\n",
       "      <th>Manager Name</th>\n",
       "      <th>Deal Cost</th>\n",
       "      <th>Deal_Date_Year</th>\n",
       "      <th>Deal_Date_Month</th>\n",
       "      <th>Deal_Date_Quarter</th>\n",
       "    </tr>\n",
       "  </thead>\n",
       "  <tbody>\n",
       "    <tr>\n",
       "      <th>0</th>\n",
       "      <td>Telecom</td>\n",
       "      <td>Solution 7</td>\n",
       "      <td>Sector 24</td>\n",
       "      <td>L5</td>\n",
       "      <td>Ekta Zutshi</td>\n",
       "      <td>Gopa Trilochana</td>\n",
       "      <td>150000.00</td>\n",
       "      <td>2012</td>\n",
       "      <td>3</td>\n",
       "      <td>1</td>\n",
       "    </tr>\n",
       "    <tr>\n",
       "      <th>1</th>\n",
       "      <td>Telecom</td>\n",
       "      <td>Solution 7</td>\n",
       "      <td>Sector 24</td>\n",
       "      <td>L5</td>\n",
       "      <td>Ekta Zutshi</td>\n",
       "      <td>Gopa Trilochana</td>\n",
       "      <td>744705.88</td>\n",
       "      <td>2012</td>\n",
       "      <td>9</td>\n",
       "      <td>3</td>\n",
       "    </tr>\n",
       "  </tbody>\n",
       "</table>\n",
       "</div>"
      ],
      "text/plain": [
       "  Client Category Solution Type     Sector Location      VP Name  \\\n",
       "0         Telecom    Solution 7  Sector 24       L5  Ekta Zutshi   \n",
       "1         Telecom    Solution 7  Sector 24       L5  Ekta Zutshi   \n",
       "\n",
       "      Manager Name  Deal Cost  Deal_Date_Year  Deal_Date_Month  \\\n",
       "0  Gopa Trilochana  150000.00            2012                3   \n",
       "1  Gopa Trilochana  744705.88            2012                9   \n",
       "\n",
       "   Deal_Date_Quarter  \n",
       "0                  1  \n",
       "1                  3  "
      ]
     },
     "execution_count": 96,
     "metadata": {},
     "output_type": "execute_result"
    }
   ],
   "source": [
    "data.head(2)"
   ]
  },
  {
   "cell_type": "markdown",
   "id": "fb411a01",
   "metadata": {},
   "source": [
    "# Data Encoding"
   ]
  },
  {
   "cell_type": "code",
   "execution_count": 97,
   "id": "0d31a7d8",
   "metadata": {},
   "outputs": [],
   "source": [
    "label_encoder=preprocessing.LabelEncoder()"
   ]
  },
  {
   "cell_type": "code",
   "execution_count": 98,
   "id": "308c1eac",
   "metadata": {},
   "outputs": [],
   "source": [
    "cols=['Client Category','Solution Type','Sector','Location','VP Name','Manager Name']\n",
    "\n",
    "data[cols]=data[cols].apply(label_encoder.fit_transform)"
   ]
  },
  {
   "cell_type": "code",
   "execution_count": 99,
   "id": "642d145e",
   "metadata": {},
   "outputs": [
    {
     "data": {
      "text/html": [
       "<div>\n",
       "<style scoped>\n",
       "    .dataframe tbody tr th:only-of-type {\n",
       "        vertical-align: middle;\n",
       "    }\n",
       "\n",
       "    .dataframe tbody tr th {\n",
       "        vertical-align: top;\n",
       "    }\n",
       "\n",
       "    .dataframe thead th {\n",
       "        text-align: right;\n",
       "    }\n",
       "</style>\n",
       "<table border=\"1\" class=\"dataframe\">\n",
       "  <thead>\n",
       "    <tr style=\"text-align: right;\">\n",
       "      <th></th>\n",
       "      <th>Client Category</th>\n",
       "      <th>Solution Type</th>\n",
       "      <th>Sector</th>\n",
       "      <th>Location</th>\n",
       "      <th>VP Name</th>\n",
       "      <th>Manager Name</th>\n",
       "      <th>Deal Cost</th>\n",
       "      <th>Deal_Date_Year</th>\n",
       "      <th>Deal_Date_Month</th>\n",
       "      <th>Deal_Date_Quarter</th>\n",
       "    </tr>\n",
       "  </thead>\n",
       "  <tbody>\n",
       "    <tr>\n",
       "      <th>0</th>\n",
       "      <td>39</td>\n",
       "      <td>64</td>\n",
       "      <td>16</td>\n",
       "      <td>7</td>\n",
       "      <td>6</td>\n",
       "      <td>82</td>\n",
       "      <td>150000.00</td>\n",
       "      <td>2012</td>\n",
       "      <td>3</td>\n",
       "      <td>1</td>\n",
       "    </tr>\n",
       "    <tr>\n",
       "      <th>1</th>\n",
       "      <td>39</td>\n",
       "      <td>64</td>\n",
       "      <td>16</td>\n",
       "      <td>7</td>\n",
       "      <td>6</td>\n",
       "      <td>82</td>\n",
       "      <td>744705.88</td>\n",
       "      <td>2012</td>\n",
       "      <td>9</td>\n",
       "      <td>3</td>\n",
       "    </tr>\n",
       "    <tr>\n",
       "      <th>2</th>\n",
       "      <td>19</td>\n",
       "      <td>54</td>\n",
       "      <td>12</td>\n",
       "      <td>12</td>\n",
       "      <td>6</td>\n",
       "      <td>183</td>\n",
       "      <td>60000.00</td>\n",
       "      <td>2011</td>\n",
       "      <td>8</td>\n",
       "      <td>3</td>\n",
       "    </tr>\n",
       "    <tr>\n",
       "      <th>3</th>\n",
       "      <td>19</td>\n",
       "      <td>54</td>\n",
       "      <td>12</td>\n",
       "      <td>12</td>\n",
       "      <td>6</td>\n",
       "      <td>183</td>\n",
       "      <td>60000.00</td>\n",
       "      <td>2011</td>\n",
       "      <td>4</td>\n",
       "      <td>2</td>\n",
       "    </tr>\n",
       "    <tr>\n",
       "      <th>4</th>\n",
       "      <td>19</td>\n",
       "      <td>25</td>\n",
       "      <td>12</td>\n",
       "      <td>12</td>\n",
       "      <td>6</td>\n",
       "      <td>183</td>\n",
       "      <td>80882.35</td>\n",
       "      <td>2011</td>\n",
       "      <td>6</td>\n",
       "      <td>2</td>\n",
       "    </tr>\n",
       "  </tbody>\n",
       "</table>\n",
       "</div>"
      ],
      "text/plain": [
       "   Client Category  Solution Type  Sector  Location  VP Name  Manager Name  \\\n",
       "0               39             64      16         7        6            82   \n",
       "1               39             64      16         7        6            82   \n",
       "2               19             54      12        12        6           183   \n",
       "3               19             54      12        12        6           183   \n",
       "4               19             25      12        12        6           183   \n",
       "\n",
       "   Deal Cost  Deal_Date_Year  Deal_Date_Month  Deal_Date_Quarter  \n",
       "0  150000.00            2012                3                  1  \n",
       "1  744705.88            2012                9                  3  \n",
       "2   60000.00            2011                8                  3  \n",
       "3   60000.00            2011                4                  2  \n",
       "4   80882.35            2011                6                  2  "
      ]
     },
     "execution_count": 99,
     "metadata": {},
     "output_type": "execute_result"
    }
   ],
   "source": [
    "data.head()"
   ]
  },
  {
   "cell_type": "code",
   "execution_count": 100,
   "id": "7d17f6c6",
   "metadata": {},
   "outputs": [
    {
     "data": {
      "text/html": [
       "<div>\n",
       "<style scoped>\n",
       "    .dataframe tbody tr th:only-of-type {\n",
       "        vertical-align: middle;\n",
       "    }\n",
       "\n",
       "    .dataframe tbody tr th {\n",
       "        vertical-align: top;\n",
       "    }\n",
       "\n",
       "    .dataframe thead th {\n",
       "        text-align: right;\n",
       "    }\n",
       "</style>\n",
       "<table border=\"1\" class=\"dataframe\">\n",
       "  <thead>\n",
       "    <tr style=\"text-align: right;\">\n",
       "      <th></th>\n",
       "      <th>Deal Status Code</th>\n",
       "    </tr>\n",
       "  </thead>\n",
       "  <tbody>\n",
       "    <tr>\n",
       "      <th>0</th>\n",
       "      <td>Won</td>\n",
       "    </tr>\n",
       "    <tr>\n",
       "      <th>1</th>\n",
       "      <td>Won</td>\n",
       "    </tr>\n",
       "    <tr>\n",
       "      <th>2</th>\n",
       "      <td>Lost</td>\n",
       "    </tr>\n",
       "    <tr>\n",
       "      <th>3</th>\n",
       "      <td>Lost</td>\n",
       "    </tr>\n",
       "    <tr>\n",
       "      <th>4</th>\n",
       "      <td>Lost</td>\n",
       "    </tr>\n",
       "  </tbody>\n",
       "</table>\n",
       "</div>"
      ],
      "text/plain": [
       "  Deal Status Code\n",
       "0              Won\n",
       "1              Won\n",
       "2             Lost\n",
       "3             Lost\n",
       "4             Lost"
      ]
     },
     "execution_count": 100,
     "metadata": {},
     "output_type": "execute_result"
    }
   ],
   "source": [
    "target.head()"
   ]
  },
  {
   "cell_type": "code",
   "execution_count": 101,
   "id": "64d76cf5",
   "metadata": {},
   "outputs": [
    {
     "data": {
      "text/plain": [
       "array([1, 0])"
      ]
     },
     "execution_count": 101,
     "metadata": {},
     "output_type": "execute_result"
    }
   ],
   "source": [
    "target['Deal Status Code']=label_encoder.fit_transform(target['Deal Status Code'])\n",
    "target['Deal Status Code'].unique()"
   ]
  },
  {
   "cell_type": "code",
   "execution_count": 102,
   "id": "dd2cf9d6",
   "metadata": {},
   "outputs": [
    {
     "data": {
      "text/html": [
       "<div>\n",
       "<style scoped>\n",
       "    .dataframe tbody tr th:only-of-type {\n",
       "        vertical-align: middle;\n",
       "    }\n",
       "\n",
       "    .dataframe tbody tr th {\n",
       "        vertical-align: top;\n",
       "    }\n",
       "\n",
       "    .dataframe thead th {\n",
       "        text-align: right;\n",
       "    }\n",
       "</style>\n",
       "<table border=\"1\" class=\"dataframe\">\n",
       "  <thead>\n",
       "    <tr style=\"text-align: right;\">\n",
       "      <th></th>\n",
       "      <th>Client Category</th>\n",
       "      <th>Solution Type</th>\n",
       "      <th>Sector</th>\n",
       "      <th>Location</th>\n",
       "      <th>VP Name</th>\n",
       "      <th>Manager Name</th>\n",
       "      <th>Deal Cost</th>\n",
       "    </tr>\n",
       "  </thead>\n",
       "  <tbody>\n",
       "    <tr>\n",
       "      <th>0</th>\n",
       "      <td>39</td>\n",
       "      <td>64</td>\n",
       "      <td>16</td>\n",
       "      <td>7</td>\n",
       "      <td>6</td>\n",
       "      <td>82</td>\n",
       "      <td>150000.00</td>\n",
       "    </tr>\n",
       "    <tr>\n",
       "      <th>1</th>\n",
       "      <td>39</td>\n",
       "      <td>64</td>\n",
       "      <td>16</td>\n",
       "      <td>7</td>\n",
       "      <td>6</td>\n",
       "      <td>82</td>\n",
       "      <td>744705.88</td>\n",
       "    </tr>\n",
       "    <tr>\n",
       "      <th>2</th>\n",
       "      <td>19</td>\n",
       "      <td>54</td>\n",
       "      <td>12</td>\n",
       "      <td>12</td>\n",
       "      <td>6</td>\n",
       "      <td>183</td>\n",
       "      <td>60000.00</td>\n",
       "    </tr>\n",
       "    <tr>\n",
       "      <th>3</th>\n",
       "      <td>19</td>\n",
       "      <td>54</td>\n",
       "      <td>12</td>\n",
       "      <td>12</td>\n",
       "      <td>6</td>\n",
       "      <td>183</td>\n",
       "      <td>60000.00</td>\n",
       "    </tr>\n",
       "    <tr>\n",
       "      <th>4</th>\n",
       "      <td>19</td>\n",
       "      <td>25</td>\n",
       "      <td>12</td>\n",
       "      <td>12</td>\n",
       "      <td>6</td>\n",
       "      <td>183</td>\n",
       "      <td>80882.35</td>\n",
       "    </tr>\n",
       "  </tbody>\n",
       "</table>\n",
       "</div>"
      ],
      "text/plain": [
       "   Client Category  Solution Type  Sector  Location  VP Name  Manager Name  \\\n",
       "0               39             64      16         7        6            82   \n",
       "1               39             64      16         7        6            82   \n",
       "2               19             54      12        12        6           183   \n",
       "3               19             54      12        12        6           183   \n",
       "4               19             25      12        12        6           183   \n",
       "\n",
       "   Deal Cost  \n",
       "0  150000.00  \n",
       "1  744705.88  \n",
       "2   60000.00  \n",
       "3   60000.00  \n",
       "4   80882.35  "
      ]
     },
     "execution_count": 102,
     "metadata": {},
     "output_type": "execute_result"
    }
   ],
   "source": [
    "data=data.iloc[:,0:7]\n",
    "data.head()"
   ]
  },
  {
   "cell_type": "code",
   "execution_count": 103,
   "id": "17daac30",
   "metadata": {},
   "outputs": [],
   "source": [
    "scaler=preprocessing.StandardScaler()\n",
    "scaled_data=scaler.fit_transform(data)"
   ]
  },
  {
   "cell_type": "code",
   "execution_count": 104,
   "id": "4d90200a",
   "metadata": {},
   "outputs": [],
   "source": [
    "scaled_data_df=pd.DataFrame(scaled_data,columns=data.columns)"
   ]
  },
  {
   "cell_type": "code",
   "execution_count": 105,
   "id": "b364b631",
   "metadata": {},
   "outputs": [
    {
     "data": {
      "text/html": [
       "<div>\n",
       "<style scoped>\n",
       "    .dataframe tbody tr th:only-of-type {\n",
       "        vertical-align: middle;\n",
       "    }\n",
       "\n",
       "    .dataframe tbody tr th {\n",
       "        vertical-align: top;\n",
       "    }\n",
       "\n",
       "    .dataframe thead th {\n",
       "        text-align: right;\n",
       "    }\n",
       "</style>\n",
       "<table border=\"1\" class=\"dataframe\">\n",
       "  <thead>\n",
       "    <tr style=\"text-align: right;\">\n",
       "      <th></th>\n",
       "      <th>Client Category</th>\n",
       "      <th>Solution Type</th>\n",
       "      <th>Sector</th>\n",
       "      <th>Location</th>\n",
       "      <th>VP Name</th>\n",
       "      <th>Manager Name</th>\n",
       "      <th>Deal Cost</th>\n",
       "    </tr>\n",
       "  </thead>\n",
       "  <tbody>\n",
       "    <tr>\n",
       "      <th>0</th>\n",
       "      <td>1.402995</td>\n",
       "      <td>1.297651</td>\n",
       "      <td>0.785351</td>\n",
       "      <td>0.762917</td>\n",
       "      <td>-1.1112</td>\n",
       "      <td>-0.715444</td>\n",
       "      <td>-0.380844</td>\n",
       "    </tr>\n",
       "    <tr>\n",
       "      <th>1</th>\n",
       "      <td>1.402995</td>\n",
       "      <td>1.297651</td>\n",
       "      <td>0.785351</td>\n",
       "      <td>0.762917</td>\n",
       "      <td>-1.1112</td>\n",
       "      <td>-0.715444</td>\n",
       "      <td>-0.013700</td>\n",
       "    </tr>\n",
       "    <tr>\n",
       "      <th>2</th>\n",
       "      <td>-0.333393</td>\n",
       "      <td>0.861064</td>\n",
       "      <td>0.016637</td>\n",
       "      <td>2.051956</td>\n",
       "      <td>-1.1112</td>\n",
       "      <td>0.600043</td>\n",
       "      <td>-0.436406</td>\n",
       "    </tr>\n",
       "    <tr>\n",
       "      <th>3</th>\n",
       "      <td>-0.333393</td>\n",
       "      <td>0.861064</td>\n",
       "      <td>0.016637</td>\n",
       "      <td>2.051956</td>\n",
       "      <td>-1.1112</td>\n",
       "      <td>0.600043</td>\n",
       "      <td>-0.436406</td>\n",
       "    </tr>\n",
       "    <tr>\n",
       "      <th>4</th>\n",
       "      <td>-0.333393</td>\n",
       "      <td>-0.405040</td>\n",
       "      <td>0.016637</td>\n",
       "      <td>2.051956</td>\n",
       "      <td>-1.1112</td>\n",
       "      <td>0.600043</td>\n",
       "      <td>-0.423515</td>\n",
       "    </tr>\n",
       "  </tbody>\n",
       "</table>\n",
       "</div>"
      ],
      "text/plain": [
       "   Client Category  Solution Type    Sector  Location  VP Name  Manager Name  \\\n",
       "0         1.402995       1.297651  0.785351  0.762917  -1.1112     -0.715444   \n",
       "1         1.402995       1.297651  0.785351  0.762917  -1.1112     -0.715444   \n",
       "2        -0.333393       0.861064  0.016637  2.051956  -1.1112      0.600043   \n",
       "3        -0.333393       0.861064  0.016637  2.051956  -1.1112      0.600043   \n",
       "4        -0.333393      -0.405040  0.016637  2.051956  -1.1112      0.600043   \n",
       "\n",
       "   Deal Cost  \n",
       "0  -0.380844  \n",
       "1  -0.013700  \n",
       "2  -0.436406  \n",
       "3  -0.436406  \n",
       "4  -0.423515  "
      ]
     },
     "execution_count": 105,
     "metadata": {},
     "output_type": "execute_result"
    }
   ],
   "source": [
    "scaled_data_df.head()"
   ]
  },
  {
   "cell_type": "code",
   "execution_count": 106,
   "id": "e190e8e6",
   "metadata": {},
   "outputs": [
    {
     "data": {
      "text/html": [
       "<div>\n",
       "<style scoped>\n",
       "    .dataframe tbody tr th:only-of-type {\n",
       "        vertical-align: middle;\n",
       "    }\n",
       "\n",
       "    .dataframe tbody tr th {\n",
       "        vertical-align: top;\n",
       "    }\n",
       "\n",
       "    .dataframe thead th {\n",
       "        text-align: right;\n",
       "    }\n",
       "</style>\n",
       "<table border=\"1\" class=\"dataframe\">\n",
       "  <thead>\n",
       "    <tr style=\"text-align: right;\">\n",
       "      <th></th>\n",
       "      <th>Deal Status Code</th>\n",
       "    </tr>\n",
       "  </thead>\n",
       "  <tbody>\n",
       "    <tr>\n",
       "      <th>0</th>\n",
       "      <td>1</td>\n",
       "    </tr>\n",
       "    <tr>\n",
       "      <th>1</th>\n",
       "      <td>1</td>\n",
       "    </tr>\n",
       "    <tr>\n",
       "      <th>2</th>\n",
       "      <td>0</td>\n",
       "    </tr>\n",
       "    <tr>\n",
       "      <th>3</th>\n",
       "      <td>0</td>\n",
       "    </tr>\n",
       "    <tr>\n",
       "      <th>4</th>\n",
       "      <td>0</td>\n",
       "    </tr>\n",
       "  </tbody>\n",
       "</table>\n",
       "</div>"
      ],
      "text/plain": [
       "   Deal Status Code\n",
       "0                 1\n",
       "1                 1\n",
       "2                 0\n",
       "3                 0\n",
       "4                 0"
      ]
     },
     "execution_count": 106,
     "metadata": {},
     "output_type": "execute_result"
    }
   ],
   "source": [
    "target.head()"
   ]
  },
  {
   "cell_type": "markdown",
   "id": "22fd93c5",
   "metadata": {},
   "source": [
    "# Train Validation Split"
   ]
  },
  {
   "cell_type": "code",
   "execution_count": 107,
   "id": "672c782f",
   "metadata": {},
   "outputs": [],
   "source": [
    "from sklearn.model_selection import train_test_split\n",
    "x_train,x_val,y_train,y_val=train_test_split(scaled_data_df,target,train_size=0.75,random_state=40)"
   ]
  },
  {
   "cell_type": "code",
   "execution_count": 108,
   "id": "5310c45e",
   "metadata": {},
   "outputs": [
    {
     "data": {
      "text/html": [
       "<div>\n",
       "<style scoped>\n",
       "    .dataframe tbody tr th:only-of-type {\n",
       "        vertical-align: middle;\n",
       "    }\n",
       "\n",
       "    .dataframe tbody tr th {\n",
       "        vertical-align: top;\n",
       "    }\n",
       "\n",
       "    .dataframe thead th {\n",
       "        text-align: right;\n",
       "    }\n",
       "</style>\n",
       "<table border=\"1\" class=\"dataframe\">\n",
       "  <thead>\n",
       "    <tr style=\"text-align: right;\">\n",
       "      <th></th>\n",
       "      <th>Client Category</th>\n",
       "      <th>Solution Type</th>\n",
       "      <th>Sector</th>\n",
       "      <th>Location</th>\n",
       "      <th>VP Name</th>\n",
       "      <th>Manager Name</th>\n",
       "      <th>Deal Cost</th>\n",
       "    </tr>\n",
       "  </thead>\n",
       "  <tbody>\n",
       "    <tr>\n",
       "      <th>7210</th>\n",
       "      <td>-0.507032</td>\n",
       "      <td>-0.448699</td>\n",
       "      <td>2.322778</td>\n",
       "      <td>-0.783929</td>\n",
       "      <td>1.205185</td>\n",
       "      <td>1.524791</td>\n",
       "      <td>-0.373581</td>\n",
       "    </tr>\n",
       "    <tr>\n",
       "      <th>8673</th>\n",
       "      <td>0.447982</td>\n",
       "      <td>1.384968</td>\n",
       "      <td>0.593172</td>\n",
       "      <td>-0.526122</td>\n",
       "      <td>-0.283920</td>\n",
       "      <td>-0.481001</td>\n",
       "      <td>-0.342714</td>\n",
       "    </tr>\n",
       "    <tr>\n",
       "      <th>2953</th>\n",
       "      <td>0.187523</td>\n",
       "      <td>1.253992</td>\n",
       "      <td>0.016637</td>\n",
       "      <td>0.762917</td>\n",
       "      <td>0.543361</td>\n",
       "      <td>0.587018</td>\n",
       "      <td>-0.291873</td>\n",
       "    </tr>\n",
       "    <tr>\n",
       "      <th>6902</th>\n",
       "      <td>-0.420212</td>\n",
       "      <td>-0.143087</td>\n",
       "      <td>-0.944255</td>\n",
       "      <td>0.762917</td>\n",
       "      <td>-0.283920</td>\n",
       "      <td>1.524791</td>\n",
       "      <td>-0.228321</td>\n",
       "    </tr>\n",
       "    <tr>\n",
       "      <th>3409</th>\n",
       "      <td>-0.420212</td>\n",
       "      <td>-1.452850</td>\n",
       "      <td>-0.944255</td>\n",
       "      <td>-0.783929</td>\n",
       "      <td>1.205185</td>\n",
       "      <td>0.977757</td>\n",
       "      <td>-0.382660</td>\n",
       "    </tr>\n",
       "  </tbody>\n",
       "</table>\n",
       "</div>"
      ],
      "text/plain": [
       "      Client Category  Solution Type    Sector  Location   VP Name  \\\n",
       "7210        -0.507032      -0.448699  2.322778 -0.783929  1.205185   \n",
       "8673         0.447982       1.384968  0.593172 -0.526122 -0.283920   \n",
       "2953         0.187523       1.253992  0.016637  0.762917  0.543361   \n",
       "6902        -0.420212      -0.143087 -0.944255  0.762917 -0.283920   \n",
       "3409        -0.420212      -1.452850 -0.944255 -0.783929  1.205185   \n",
       "\n",
       "      Manager Name  Deal Cost  \n",
       "7210      1.524791  -0.373581  \n",
       "8673     -0.481001  -0.342714  \n",
       "2953      0.587018  -0.291873  \n",
       "6902      1.524791  -0.228321  \n",
       "3409      0.977757  -0.382660  "
      ]
     },
     "execution_count": 108,
     "metadata": {},
     "output_type": "execute_result"
    }
   ],
   "source": [
    "x_train.head()"
   ]
  },
  {
   "cell_type": "code",
   "execution_count": 109,
   "id": "b77a5421",
   "metadata": {},
   "outputs": [
    {
     "data": {
      "text/html": [
       "<div>\n",
       "<style scoped>\n",
       "    .dataframe tbody tr th:only-of-type {\n",
       "        vertical-align: middle;\n",
       "    }\n",
       "\n",
       "    .dataframe tbody tr th {\n",
       "        vertical-align: top;\n",
       "    }\n",
       "\n",
       "    .dataframe thead th {\n",
       "        text-align: right;\n",
       "    }\n",
       "</style>\n",
       "<table border=\"1\" class=\"dataframe\">\n",
       "  <thead>\n",
       "    <tr style=\"text-align: right;\">\n",
       "      <th></th>\n",
       "      <th>Client Category</th>\n",
       "      <th>Solution Type</th>\n",
       "      <th>Sector</th>\n",
       "      <th>Location</th>\n",
       "      <th>VP Name</th>\n",
       "      <th>Manager Name</th>\n",
       "      <th>Deal Cost</th>\n",
       "    </tr>\n",
       "  </thead>\n",
       "  <tbody>\n",
       "    <tr>\n",
       "      <th>1428</th>\n",
       "      <td>0.447982</td>\n",
       "      <td>-1.452850</td>\n",
       "      <td>0.593172</td>\n",
       "      <td>-1.041737</td>\n",
       "      <td>-1.524840</td>\n",
       "      <td>-0.988961</td>\n",
       "      <td>-0.300951</td>\n",
       "    </tr>\n",
       "    <tr>\n",
       "      <th>7066</th>\n",
       "      <td>0.447982</td>\n",
       "      <td>1.384968</td>\n",
       "      <td>0.785351</td>\n",
       "      <td>0.762917</td>\n",
       "      <td>0.957001</td>\n",
       "      <td>-0.715444</td>\n",
       "      <td>-0.473448</td>\n",
       "    </tr>\n",
       "    <tr>\n",
       "      <th>3230</th>\n",
       "      <td>1.316175</td>\n",
       "      <td>-1.452850</td>\n",
       "      <td>0.593172</td>\n",
       "      <td>-1.041737</td>\n",
       "      <td>-1.524840</td>\n",
       "      <td>-0.350755</td>\n",
       "      <td>-0.415344</td>\n",
       "    </tr>\n",
       "    <tr>\n",
       "      <th>5760</th>\n",
       "      <td>0.447982</td>\n",
       "      <td>-0.099429</td>\n",
       "      <td>-2.289504</td>\n",
       "      <td>-0.783929</td>\n",
       "      <td>-0.780288</td>\n",
       "      <td>0.508870</td>\n",
       "      <td>-0.019510</td>\n",
       "    </tr>\n",
       "    <tr>\n",
       "      <th>9738</th>\n",
       "      <td>-0.333393</td>\n",
       "      <td>-0.623334</td>\n",
       "      <td>-0.175541</td>\n",
       "      <td>-0.783929</td>\n",
       "      <td>-1.524840</td>\n",
       "      <td>1.694111</td>\n",
       "      <td>-0.437133</td>\n",
       "    </tr>\n",
       "  </tbody>\n",
       "</table>\n",
       "</div>"
      ],
      "text/plain": [
       "      Client Category  Solution Type    Sector  Location   VP Name  \\\n",
       "1428         0.447982      -1.452850  0.593172 -1.041737 -1.524840   \n",
       "7066         0.447982       1.384968  0.785351  0.762917  0.957001   \n",
       "3230         1.316175      -1.452850  0.593172 -1.041737 -1.524840   \n",
       "5760         0.447982      -0.099429 -2.289504 -0.783929 -0.780288   \n",
       "9738        -0.333393      -0.623334 -0.175541 -0.783929 -1.524840   \n",
       "\n",
       "      Manager Name  Deal Cost  \n",
       "1428     -0.988961  -0.300951  \n",
       "7066     -0.715444  -0.473448  \n",
       "3230     -0.350755  -0.415344  \n",
       "5760      0.508870  -0.019510  \n",
       "9738      1.694111  -0.437133  "
      ]
     },
     "execution_count": 109,
     "metadata": {},
     "output_type": "execute_result"
    }
   ],
   "source": [
    "x_val.head()"
   ]
  },
  {
   "cell_type": "markdown",
   "id": "3228f238",
   "metadata": {},
   "source": [
    "# Model Selection"
   ]
  },
  {
   "cell_type": "code",
   "execution_count": 110,
   "id": "3a8fce55",
   "metadata": {},
   "outputs": [
    {
     "data": {
      "text/plain": [
       "LogisticRegression()"
      ]
     },
     "execution_count": 110,
     "metadata": {},
     "output_type": "execute_result"
    }
   ],
   "source": [
    "from sklearn.linear_model import LogisticRegression\n",
    "logit=LogisticRegression()\n",
    "logit.fit(x_train,y_train)"
   ]
  },
  {
   "cell_type": "code",
   "execution_count": 120,
   "id": "67e54875",
   "metadata": {},
   "outputs": [],
   "source": [
    "y_pred_val=logit.predict(x_val)\n",
    "y_pred_train=logit.predict(x_train)"
   ]
  },
  {
   "cell_type": "code",
   "execution_count": 121,
   "id": "55ad937a",
   "metadata": {},
   "outputs": [],
   "source": [
    "from sklearn import metrics\n",
    "from sklearn.metrics import confusion_matrix,classification_report,accuracy_score"
   ]
  },
  {
   "cell_type": "code",
   "execution_count": 122,
   "id": "9b200096",
   "metadata": {},
   "outputs": [
    {
     "name": "stdout",
     "output_type": "stream",
     "text": [
      "Acuuracy test: 0.6196343402225755\n",
      "Acuuracy train: 0.6287607687210073\n",
      "\n",
      "\n",
      "              precision    recall  f1-score   support\n",
      "\n",
      "           0       0.62      1.00      0.77      1559\n",
      "           1       0.00      0.00      0.00       957\n",
      "\n",
      "    accuracy                           0.62      2516\n",
      "   macro avg       0.31      0.50      0.38      2516\n",
      "weighted avg       0.38      0.62      0.47      2516\n",
      "\n",
      "\n",
      "\n",
      "              precision    recall  f1-score   support\n",
      "\n",
      "           0       0.63      1.00      0.77      4747\n",
      "           1       0.33      0.00      0.00      2798\n",
      "\n",
      "    accuracy                           0.63      7545\n",
      "   macro avg       0.48      0.50      0.39      7545\n",
      "weighted avg       0.52      0.63      0.49      7545\n",
      "\n"
     ]
    }
   ],
   "source": [
    "print(\"Acuuracy test:\",accuracy_score(y_val,y_pred_val))\n",
    "print(\"Acuuracy train:\",accuracy_score(y_train,y_pred_train))\n",
    "print('\\n')\n",
    "print(classification_report(y_val,y_pred_val))\n",
    "print('\\n')\n",
    "print(classification_report(y_train,y_pred_train))"
   ]
  },
  {
   "cell_type": "code",
   "execution_count": 125,
   "id": "72b44c10",
   "metadata": {},
   "outputs": [
    {
     "name": "stdout",
     "output_type": "stream",
     "text": [
      "[[1559    0]\n",
      " [ 957    0]]\n",
      "\n",
      "\n",
      "[[4741    6]\n",
      " [2795    3]]\n"
     ]
    }
   ],
   "source": [
    "print(confusion_matrix(y_val,y_pred_val))\n",
    "print('\\n')\n",
    "print(confusion_matrix(y_train,y_pred_train))"
   ]
  },
  {
   "cell_type": "markdown",
   "id": "957b7c15",
   "metadata": {},
   "source": [
    "# Cross Validation-K fold method"
   ]
  },
  {
   "cell_type": "code",
   "execution_count": 127,
   "id": "a3488afb",
   "metadata": {},
   "outputs": [
    {
     "name": "stdout",
     "output_type": "stream",
     "text": [
      "[0.61111111 0.61904762 0.61904762 0.61111111 0.61904762 0.61904762\n",
      " 0.62151394 0.62151394 0.61752988 0.61354582]\n",
      "\n",
      "\n",
      "[0.62781457 0.62781457 0.62781457 0.62913907 0.62781457 0.62997347\n",
      " 0.62997347 0.62864721 0.62997347 0.62997347]\n"
     ]
    }
   ],
   "source": [
    "from sklearn.model_selection import cross_val_score\n",
    "accuracy_test=cross_val_score(logit,x_val,y_val,cv=10)\n",
    "accuracy_train=cross_val_score(logit,x_train,y_train,cv=10)\n",
    "print(accuracy_test)\n",
    "print('\\n')\n",
    "print(accuracy_train)"
   ]
  },
  {
   "cell_type": "code",
   "execution_count": 130,
   "id": "f087d3a9",
   "metadata": {},
   "outputs": [
    {
     "name": "stdout",
     "output_type": "stream",
     "text": [
      "[17:26:41] WARNING: ..\\src\\learner.cc:1115: Starting in XGBoost 1.3.0, the default evaluation metric used with the objective 'binary:logistic' was changed from 'error' to 'logloss'. Explicitly set eval_metric if you'd like to restore the old behavior.\n"
     ]
    },
    {
     "data": {
      "text/plain": [
       "XGBClassifier(base_score=0.5, booster='gbtree', colsample_bylevel=1,\n",
       "              colsample_bynode=1, colsample_bytree=1, enable_categorical=False,\n",
       "              gamma=0, gpu_id=-1, importance_type=None,\n",
       "              interaction_constraints='', learning_rate=0.300000012,\n",
       "              max_delta_step=0, max_depth=6, min_child_weight=1, missing=nan,\n",
       "              monotone_constraints='()', n_estimators=100, n_jobs=4,\n",
       "              num_parallel_tree=1, predictor='auto', random_state=0,\n",
       "              reg_alpha=0, reg_lambda=1, scale_pos_weight=1, subsample=1,\n",
       "              tree_method='exact', validate_parameters=1, verbosity=None)"
      ]
     },
     "execution_count": 130,
     "metadata": {},
     "output_type": "execute_result"
    }
   ],
   "source": [
    "#Since the bias is high we are using xgboost\n",
    "\n",
    "from xgboost import XGBClassifier\n",
    "xgb_class=XGBClassifier()\n",
    "xgb_class.fit(x_train,y_train)"
   ]
  },
  {
   "cell_type": "code",
   "execution_count": 132,
   "id": "2e47e031",
   "metadata": {},
   "outputs": [],
   "source": [
    "y_pred_xgb_train=xgb_class.predict(x_train)\n",
    "y_pred_xgb_test=xgb_class.predict(x_val)"
   ]
  },
  {
   "cell_type": "code",
   "execution_count": 133,
   "id": "33b1df12",
   "metadata": {},
   "outputs": [
    {
     "name": "stdout",
     "output_type": "stream",
     "text": [
      "0.9280318091451292\n",
      "\n",
      "\n",
      "0.7837837837837838\n"
     ]
    }
   ],
   "source": [
    "print(accuracy_score(y_train,y_pred_xgb_train))\n",
    "print('\\n')\n",
    "print(accuracy_score(y_val,y_pred_xgb_test))"
   ]
  },
  {
   "cell_type": "code",
   "execution_count": 137,
   "id": "7bb5df6f",
   "metadata": {},
   "outputs": [
    {
     "name": "stdout",
     "output_type": "stream",
     "text": [
      "[18:15:45] WARNING: ..\\src\\learner.cc:1115: Starting in XGBoost 1.3.0, the default evaluation metric used with the objective 'binary:logistic' was changed from 'error' to 'logloss'. Explicitly set eval_metric if you'd like to restore the old behavior.\n",
      "[18:15:46] WARNING: ..\\src\\learner.cc:1115: Starting in XGBoost 1.3.0, the default evaluation metric used with the objective 'binary:logistic' was changed from 'error' to 'logloss'. Explicitly set eval_metric if you'd like to restore the old behavior.\n",
      "[18:15:46] WARNING: ..\\src\\learner.cc:1115: Starting in XGBoost 1.3.0, the default evaluation metric used with the objective 'binary:logistic' was changed from 'error' to 'logloss'. Explicitly set eval_metric if you'd like to restore the old behavior.\n",
      "[18:15:47] WARNING: ..\\src\\learner.cc:1115: Starting in XGBoost 1.3.0, the default evaluation metric used with the objective 'binary:logistic' was changed from 'error' to 'logloss'. Explicitly set eval_metric if you'd like to restore the old behavior.\n",
      "[18:15:47] WARNING: ..\\src\\learner.cc:1115: Starting in XGBoost 1.3.0, the default evaluation metric used with the objective 'binary:logistic' was changed from 'error' to 'logloss'. Explicitly set eval_metric if you'd like to restore the old behavior.\n",
      "[18:15:47] WARNING: ..\\src\\learner.cc:1115: Starting in XGBoost 1.3.0, the default evaluation metric used with the objective 'binary:logistic' was changed from 'error' to 'logloss'. Explicitly set eval_metric if you'd like to restore the old behavior.\n",
      "[18:15:48] WARNING: ..\\src\\learner.cc:1115: Starting in XGBoost 1.3.0, the default evaluation metric used with the objective 'binary:logistic' was changed from 'error' to 'logloss'. Explicitly set eval_metric if you'd like to restore the old behavior.\n",
      "[18:15:48] WARNING: ..\\src\\learner.cc:1115: Starting in XGBoost 1.3.0, the default evaluation metric used with the objective 'binary:logistic' was changed from 'error' to 'logloss'. Explicitly set eval_metric if you'd like to restore the old behavior.\n",
      "[18:15:49] WARNING: ..\\src\\learner.cc:1115: Starting in XGBoost 1.3.0, the default evaluation metric used with the objective 'binary:logistic' was changed from 'error' to 'logloss'. Explicitly set eval_metric if you'd like to restore the old behavior.\n",
      "[18:15:49] WARNING: ..\\src\\learner.cc:1115: Starting in XGBoost 1.3.0, the default evaluation metric used with the objective 'binary:logistic' was changed from 'error' to 'logloss'. Explicitly set eval_metric if you'd like to restore the old behavior.\n",
      "[18:15:49] WARNING: ..\\src\\learner.cc:1115: Starting in XGBoost 1.3.0, the default evaluation metric used with the objective 'binary:logistic' was changed from 'error' to 'logloss'. Explicitly set eval_metric if you'd like to restore the old behavior.\n",
      "[18:15:50] WARNING: ..\\src\\learner.cc:1115: Starting in XGBoost 1.3.0, the default evaluation metric used with the objective 'binary:logistic' was changed from 'error' to 'logloss'. Explicitly set eval_metric if you'd like to restore the old behavior.\n",
      "[18:15:50] WARNING: ..\\src\\learner.cc:1115: Starting in XGBoost 1.3.0, the default evaluation metric used with the objective 'binary:logistic' was changed from 'error' to 'logloss'. Explicitly set eval_metric if you'd like to restore the old behavior.\n",
      "[18:15:51] WARNING: ..\\src\\learner.cc:1115: Starting in XGBoost 1.3.0, the default evaluation metric used with the objective 'binary:logistic' was changed from 'error' to 'logloss'. Explicitly set eval_metric if you'd like to restore the old behavior.\n",
      "[18:15:51] WARNING: ..\\src\\learner.cc:1115: Starting in XGBoost 1.3.0, the default evaluation metric used with the objective 'binary:logistic' was changed from 'error' to 'logloss'. Explicitly set eval_metric if you'd like to restore the old behavior.\n",
      "[18:15:51] WARNING: ..\\src\\learner.cc:1115: Starting in XGBoost 1.3.0, the default evaluation metric used with the objective 'binary:logistic' was changed from 'error' to 'logloss'. Explicitly set eval_metric if you'd like to restore the old behavior.\n",
      "[18:15:52] WARNING: ..\\src\\learner.cc:1115: Starting in XGBoost 1.3.0, the default evaluation metric used with the objective 'binary:logistic' was changed from 'error' to 'logloss'. Explicitly set eval_metric if you'd like to restore the old behavior.\n",
      "[18:15:52] WARNING: ..\\src\\learner.cc:1115: Starting in XGBoost 1.3.0, the default evaluation metric used with the objective 'binary:logistic' was changed from 'error' to 'logloss'. Explicitly set eval_metric if you'd like to restore the old behavior.\n",
      "[18:15:52] WARNING: ..\\src\\learner.cc:1115: Starting in XGBoost 1.3.0, the default evaluation metric used with the objective 'binary:logistic' was changed from 'error' to 'logloss'. Explicitly set eval_metric if you'd like to restore the old behavior.\n",
      "[18:15:53] WARNING: ..\\src\\learner.cc:1115: Starting in XGBoost 1.3.0, the default evaluation metric used with the objective 'binary:logistic' was changed from 'error' to 'logloss'. Explicitly set eval_metric if you'd like to restore the old behavior.\n",
      "[18:15:53] WARNING: ..\\src\\learner.cc:1115: Starting in XGBoost 1.3.0, the default evaluation metric used with the objective 'binary:logistic' was changed from 'error' to 'logloss'. Explicitly set eval_metric if you'd like to restore the old behavior.\n",
      "[18:15:54] WARNING: ..\\src\\learner.cc:1115: Starting in XGBoost 1.3.0, the default evaluation metric used with the objective 'binary:logistic' was changed from 'error' to 'logloss'. Explicitly set eval_metric if you'd like to restore the old behavior.\n",
      "[18:15:54] WARNING: ..\\src\\learner.cc:1115: Starting in XGBoost 1.3.0, the default evaluation metric used with the objective 'binary:logistic' was changed from 'error' to 'logloss'. Explicitly set eval_metric if you'd like to restore the old behavior.\n",
      "[18:15:54] WARNING: ..\\src\\learner.cc:1115: Starting in XGBoost 1.3.0, the default evaluation metric used with the objective 'binary:logistic' was changed from 'error' to 'logloss'. Explicitly set eval_metric if you'd like to restore the old behavior.\n",
      "[18:15:55] WARNING: ..\\src\\learner.cc:1115: Starting in XGBoost 1.3.0, the default evaluation metric used with the objective 'binary:logistic' was changed from 'error' to 'logloss'. Explicitly set eval_metric if you'd like to restore the old behavior.\n",
      "[0.75247525 0.67326733 0.66336634 0.72277228 0.74257426 0.68316832\n",
      " 0.7029703  0.73267327 0.72277228 0.74257426 0.74257426 0.68316832\n",
      " 0.74257426 0.72277228 0.67326733 0.72277228 0.67       0.82\n",
      " 0.68       0.82       0.72       0.78       0.76       0.7\n",
      " 0.68      ]\n"
     ]
    }
   ],
   "source": [
    "accuracy_test=cross_val_score(xgb_class,x_val,y_val,cv=25)\n",
    "print(accuracy_test)"
   ]
  },
  {
   "cell_type": "code",
   "execution_count": 138,
   "id": "93439e4a",
   "metadata": {},
   "outputs": [
    {
     "name": "stdout",
     "output_type": "stream",
     "text": [
      "0.82\n"
     ]
    }
   ],
   "source": [
    "print(accuracy_test[17])"
   ]
  },
  {
   "cell_type": "code",
   "execution_count": null,
   "id": "d6b36566",
   "metadata": {},
   "outputs": [],
   "source": [
    "# Train accuracy-0.9280318091451292\n",
    "# Test accuracy-0.82"
   ]
  },
  {
   "cell_type": "markdown",
   "id": "39f94ebe",
   "metadata": {},
   "source": [
    "# Random Forest Classifier"
   ]
  },
  {
   "cell_type": "code",
   "execution_count": 141,
   "id": "9bbac598",
   "metadata": {},
   "outputs": [
    {
     "data": {
      "text/plain": [
       "RandomForestClassifier()"
      ]
     },
     "execution_count": 141,
     "metadata": {},
     "output_type": "execute_result"
    }
   ],
   "source": [
    "from sklearn.ensemble import RandomForestClassifier\n",
    "rfc=RandomForestClassifier()\n",
    "rfc.fit(x_train,y_train)"
   ]
  },
  {
   "cell_type": "code",
   "execution_count": 142,
   "id": "51552d43",
   "metadata": {},
   "outputs": [],
   "source": [
    "y_pred_rfc_train=rfc.predict(x_train)\n",
    "y_pred_rfc_val=rfc.predict(x_val)"
   ]
  },
  {
   "cell_type": "code",
   "execution_count": 143,
   "id": "23d99039",
   "metadata": {},
   "outputs": [
    {
     "name": "stdout",
     "output_type": "stream",
     "text": [
      "0.9970841616964877\n",
      "\n",
      "\n",
      "0.8203497615262321\n"
     ]
    }
   ],
   "source": [
    "print(accuracy_score(y_train,y_pred_rfc_train))\n",
    "print('\\n')\n",
    "print(accuracy_score(y_val,y_pred_rfc_val))"
   ]
  },
  {
   "cell_type": "code",
   "execution_count": 145,
   "id": "7dcb3bf7",
   "metadata": {},
   "outputs": [
    {
     "name": "stdout",
     "output_type": "stream",
     "text": [
      "[0.73015873 0.75396825 0.66666667 0.71428571 0.66666667 0.65079365\n",
      " 0.74603175 0.75396825 0.63492063 0.63492063 0.81746032 0.71428571\n",
      " 0.67460317 0.71428571 0.74603175 0.78571429 0.68       0.784\n",
      " 0.688      0.712     ]\n"
     ]
    }
   ],
   "source": [
    "from sklearn.model_selection import cross_val_score\n",
    "accuracy_test=cross_val_score(rfc,x_val,y_val,cv=20)\n",
    "print(accuracy_test)"
   ]
  },
  {
   "cell_type": "code",
   "execution_count": null,
   "id": "3bde8a7e",
   "metadata": {},
   "outputs": [],
   "source": []
  }
 ],
 "metadata": {
  "kernelspec": {
   "display_name": "Python 3 (ipykernel)",
   "language": "python",
   "name": "python3"
  },
  "language_info": {
   "codemirror_mode": {
    "name": "ipython",
    "version": 3
   },
   "file_extension": ".py",
   "mimetype": "text/x-python",
   "name": "python",
   "nbconvert_exporter": "python",
   "pygments_lexer": "ipython3",
   "version": "3.9.7"
  }
 },
 "nbformat": 4,
 "nbformat_minor": 5
}
